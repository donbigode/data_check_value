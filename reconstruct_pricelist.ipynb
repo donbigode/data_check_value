{
 "cells": [
  {
   "cell_type": "code",
   "execution_count": 243,
   "metadata": {},
   "outputs": [],
   "source": [
    "import os\n",
    "import pandas as pd\n",
    "import openpyxl\n",
    "import numpy as np\n",
    "from datetime import date, datetime, timedelta\n",
    "from pandas.core.reshape.concat import concat\n",
    "import glob2\n",
    "import glob\n",
    "import random\n",
    "import ntpath\n",
    "import itertools\n"
   ]
  },
  {
   "cell_type": "code",
   "execution_count": 2,
   "metadata": {},
   "outputs": [],
   "source": [
    "file_path = 'C:\\\\Users\\\\orochage\\\\pricelist'"
   ]
  },
  {
   "cell_type": "markdown",
   "metadata": {},
   "source": [
    "### Estudo: Reconstruindo os arquivos divididos por Macro"
   ]
  },
  {
   "cell_type": "code",
   "execution_count": 12,
   "metadata": {},
   "outputs": [],
   "source": [
    "def append_dados_preco(path):\n",
    "    df_consolidador = pd.DataFrame()\n",
    "    now = datetime.now()\n",
    "    os.chdir(path)\n",
    "\n",
    "    for base_ext in glob.glob(\"*.csv\"):\n",
    "        df_check = pd.read_csv(base_ext, sep=';', encoding='latin-1', header=0, index_col=0)\n",
    "        df_consolidador = df_consolidador.append(df_check, ignore_index=True)\n",
    "        print(base_ext)\n",
    "        print(\"Tabela Consolidada com tamanho final: {0}\".format(\n",
    "            len(df_consolidador)))\n",
    "    df_consolidador.to_csv(\"reconstruido/pricelist_reconstruída_{0}.csv\" .format(\n",
    "        now.strftime(\"%d%m%Y\")))\n",
    "    print('Finalizada a consolidação.\\n')\n"
   ]
  },
  {
   "cell_type": "code",
   "execution_count": 13,
   "metadata": {},
   "outputs": [
    {
     "name": "stderr",
     "output_type": "stream",
     "text": [
      "C:\\Users\\orochage\\AppData\\Local\\Temp\\1\\ipykernel_24168\\651103195.py:8: FutureWarning: The frame.append method is deprecated and will be removed from pandas in a future version. Use pandas.concat instead.\n",
      "  df_consolidador = df_consolidador.append(df_check, ignore_index=True)\n"
     ]
    },
    {
     "name": "stdout",
     "output_type": "stream",
     "text": [
      "BR01_10_10_lista_20220604_211327.csv\n",
      "Tabela Consolidada com tamanho 15580\n"
     ]
    },
    {
     "name": "stderr",
     "output_type": "stream",
     "text": [
      "C:\\Users\\orochage\\AppData\\Local\\Temp\\1\\ipykernel_24168\\651103195.py:8: FutureWarning: The frame.append method is deprecated and will be removed from pandas in a future version. Use pandas.concat instead.\n",
      "  df_consolidador = df_consolidador.append(df_check, ignore_index=True)\n"
     ]
    },
    {
     "name": "stdout",
     "output_type": "stream",
     "text": [
      "BR01_10_10_lista_20220604_213629.csv\n",
      "Tabela Consolidada com tamanho 32954\n"
     ]
    },
    {
     "name": "stderr",
     "output_type": "stream",
     "text": [
      "C:\\Users\\orochage\\AppData\\Local\\Temp\\1\\ipykernel_24168\\651103195.py:8: FutureWarning: The frame.append method is deprecated and will be removed from pandas in a future version. Use pandas.concat instead.\n",
      "  df_consolidador = df_consolidador.append(df_check, ignore_index=True)\n"
     ]
    },
    {
     "name": "stdout",
     "output_type": "stream",
     "text": [
      "BR01_10_10_lista_20220604_214747.csv\n",
      "Tabela Consolidada com tamanho 50924\n"
     ]
    },
    {
     "name": "stderr",
     "output_type": "stream",
     "text": [
      "C:\\Users\\orochage\\AppData\\Local\\Temp\\1\\ipykernel_24168\\651103195.py:8: FutureWarning: The frame.append method is deprecated and will be removed from pandas in a future version. Use pandas.concat instead.\n",
      "  df_consolidador = df_consolidador.append(df_check, ignore_index=True)\n"
     ]
    },
    {
     "name": "stdout",
     "output_type": "stream",
     "text": [
      "BR01_10_10_lista_20220604_220145.csv\n",
      "Tabela Consolidada com tamanho 68894\n"
     ]
    },
    {
     "name": "stderr",
     "output_type": "stream",
     "text": [
      "C:\\Users\\orochage\\AppData\\Local\\Temp\\1\\ipykernel_24168\\651103195.py:8: FutureWarning: The frame.append method is deprecated and will be removed from pandas in a future version. Use pandas.concat instead.\n",
      "  df_consolidador = df_consolidador.append(df_check, ignore_index=True)\n"
     ]
    },
    {
     "name": "stdout",
     "output_type": "stream",
     "text": [
      "BR01_10_10_lista_20220604_221312.csv\n",
      "Tabela Consolidada com tamanho 86864\n"
     ]
    },
    {
     "name": "stderr",
     "output_type": "stream",
     "text": [
      "C:\\Users\\orochage\\AppData\\Local\\Temp\\1\\ipykernel_24168\\651103195.py:8: FutureWarning: The frame.append method is deprecated and will be removed from pandas in a future version. Use pandas.concat instead.\n",
      "  df_consolidador = df_consolidador.append(df_check, ignore_index=True)\n"
     ]
    },
    {
     "name": "stdout",
     "output_type": "stream",
     "text": [
      "BR01_10_10_lista_20220604_222553.csv\n",
      "Tabela Consolidada com tamanho 104834\n"
     ]
    },
    {
     "name": "stderr",
     "output_type": "stream",
     "text": [
      "C:\\Users\\orochage\\AppData\\Local\\Temp\\1\\ipykernel_24168\\651103195.py:8: FutureWarning: The frame.append method is deprecated and will be removed from pandas in a future version. Use pandas.concat instead.\n",
      "  df_consolidador = df_consolidador.append(df_check, ignore_index=True)\n"
     ]
    },
    {
     "name": "stdout",
     "output_type": "stream",
     "text": [
      "BR01_10_10_lista_20220604_223658.csv\n",
      "Tabela Consolidada com tamanho 122804\n"
     ]
    },
    {
     "name": "stderr",
     "output_type": "stream",
     "text": [
      "C:\\Users\\orochage\\AppData\\Local\\Temp\\1\\ipykernel_24168\\651103195.py:8: FutureWarning: The frame.append method is deprecated and will be removed from pandas in a future version. Use pandas.concat instead.\n",
      "  df_consolidador = df_consolidador.append(df_check, ignore_index=True)\n"
     ]
    },
    {
     "name": "stdout",
     "output_type": "stream",
     "text": [
      "BR01_10_10_lista_20220604_224958.csv\n",
      "Tabela Consolidada com tamanho 140774\n"
     ]
    },
    {
     "name": "stderr",
     "output_type": "stream",
     "text": [
      "C:\\Users\\orochage\\AppData\\Local\\Temp\\1\\ipykernel_24168\\651103195.py:8: FutureWarning: The frame.append method is deprecated and will be removed from pandas in a future version. Use pandas.concat instead.\n",
      "  df_consolidador = df_consolidador.append(df_check, ignore_index=True)\n"
     ]
    },
    {
     "name": "stdout",
     "output_type": "stream",
     "text": [
      "BR01_10_10_lista_20220604_230318.csv\n",
      "Tabela Consolidada com tamanho 158744\n"
     ]
    },
    {
     "name": "stderr",
     "output_type": "stream",
     "text": [
      "C:\\Users\\orochage\\AppData\\Local\\Temp\\1\\ipykernel_24168\\651103195.py:8: FutureWarning: The frame.append method is deprecated and will be removed from pandas in a future version. Use pandas.concat instead.\n",
      "  df_consolidador = df_consolidador.append(df_check, ignore_index=True)\n"
     ]
    },
    {
     "name": "stdout",
     "output_type": "stream",
     "text": [
      "BR01_10_10_lista_20220604_232009.csv\n",
      "Tabela Consolidada com tamanho 176714\n"
     ]
    },
    {
     "name": "stderr",
     "output_type": "stream",
     "text": [
      "C:\\Users\\orochage\\AppData\\Local\\Temp\\1\\ipykernel_24168\\651103195.py:8: FutureWarning: The frame.append method is deprecated and will be removed from pandas in a future version. Use pandas.concat instead.\n",
      "  df_consolidador = df_consolidador.append(df_check, ignore_index=True)\n"
     ]
    },
    {
     "name": "stdout",
     "output_type": "stream",
     "text": [
      "BR01_10_10_lista_20220604_233209.csv\n",
      "Tabela Consolidada com tamanho 194684\n"
     ]
    },
    {
     "name": "stderr",
     "output_type": "stream",
     "text": [
      "C:\\Users\\orochage\\AppData\\Local\\Temp\\1\\ipykernel_24168\\651103195.py:8: FutureWarning: The frame.append method is deprecated and will be removed from pandas in a future version. Use pandas.concat instead.\n",
      "  df_consolidador = df_consolidador.append(df_check, ignore_index=True)\n"
     ]
    },
    {
     "name": "stdout",
     "output_type": "stream",
     "text": [
      "BR01_10_10_lista_20220604_234353.csv\n",
      "Tabela Consolidada com tamanho 212654\n"
     ]
    },
    {
     "name": "stderr",
     "output_type": "stream",
     "text": [
      "C:\\Users\\orochage\\AppData\\Local\\Temp\\1\\ipykernel_24168\\651103195.py:8: FutureWarning: The frame.append method is deprecated and will be removed from pandas in a future version. Use pandas.concat instead.\n",
      "  df_consolidador = df_consolidador.append(df_check, ignore_index=True)\n"
     ]
    },
    {
     "name": "stdout",
     "output_type": "stream",
     "text": [
      "BR01_10_10_lista_20220604_235719.csv\n",
      "Tabela Consolidada com tamanho 230624\n"
     ]
    },
    {
     "name": "stderr",
     "output_type": "stream",
     "text": [
      "C:\\Users\\orochage\\AppData\\Local\\Temp\\1\\ipykernel_24168\\651103195.py:8: FutureWarning: The frame.append method is deprecated and will be removed from pandas in a future version. Use pandas.concat instead.\n",
      "  df_consolidador = df_consolidador.append(df_check, ignore_index=True)\n"
     ]
    },
    {
     "name": "stdout",
     "output_type": "stream",
     "text": [
      "BR01_10_10_lista_20220605_002058.csv\n",
      "Tabela Consolidada com tamanho 248594\n"
     ]
    },
    {
     "name": "stderr",
     "output_type": "stream",
     "text": [
      "C:\\Users\\orochage\\AppData\\Local\\Temp\\1\\ipykernel_24168\\651103195.py:8: FutureWarning: The frame.append method is deprecated and will be removed from pandas in a future version. Use pandas.concat instead.\n",
      "  df_consolidador = df_consolidador.append(df_check, ignore_index=True)\n"
     ]
    },
    {
     "name": "stdout",
     "output_type": "stream",
     "text": [
      "BR01_10_10_lista_20220605_003705.csv\n",
      "Tabela Consolidada com tamanho 266564\n"
     ]
    },
    {
     "name": "stderr",
     "output_type": "stream",
     "text": [
      "C:\\Users\\orochage\\AppData\\Local\\Temp\\1\\ipykernel_24168\\651103195.py:8: FutureWarning: The frame.append method is deprecated and will be removed from pandas in a future version. Use pandas.concat instead.\n",
      "  df_consolidador = df_consolidador.append(df_check, ignore_index=True)\n"
     ]
    },
    {
     "name": "stdout",
     "output_type": "stream",
     "text": [
      "BR01_10_10_lista_20220605_004937.csv\n",
      "Tabela Consolidada com tamanho 284534\n"
     ]
    },
    {
     "name": "stderr",
     "output_type": "stream",
     "text": [
      "C:\\Users\\orochage\\AppData\\Local\\Temp\\1\\ipykernel_24168\\651103195.py:8: FutureWarning: The frame.append method is deprecated and will be removed from pandas in a future version. Use pandas.concat instead.\n",
      "  df_consolidador = df_consolidador.append(df_check, ignore_index=True)\n"
     ]
    },
    {
     "name": "stdout",
     "output_type": "stream",
     "text": [
      "BR01_10_10_lista_20220605_010400.csv\n",
      "Tabela Consolidada com tamanho 302504\n"
     ]
    },
    {
     "name": "stderr",
     "output_type": "stream",
     "text": [
      "C:\\Users\\orochage\\AppData\\Local\\Temp\\1\\ipykernel_24168\\651103195.py:8: FutureWarning: The frame.append method is deprecated and will be removed from pandas in a future version. Use pandas.concat instead.\n",
      "  df_consolidador = df_consolidador.append(df_check, ignore_index=True)\n"
     ]
    },
    {
     "name": "stdout",
     "output_type": "stream",
     "text": [
      "BR01_10_10_lista_20220605_013457.csv\n",
      "Tabela Consolidada com tamanho 320474\n"
     ]
    },
    {
     "name": "stderr",
     "output_type": "stream",
     "text": [
      "C:\\Users\\orochage\\AppData\\Local\\Temp\\1\\ipykernel_24168\\651103195.py:8: FutureWarning: The frame.append method is deprecated and will be removed from pandas in a future version. Use pandas.concat instead.\n",
      "  df_consolidador = df_consolidador.append(df_check, ignore_index=True)\n"
     ]
    },
    {
     "name": "stdout",
     "output_type": "stream",
     "text": [
      "BR01_10_10_lista_20220605_020721.csv\n",
      "Tabela Consolidada com tamanho 338444\n"
     ]
    },
    {
     "name": "stderr",
     "output_type": "stream",
     "text": [
      "C:\\Users\\orochage\\AppData\\Local\\Temp\\1\\ipykernel_24168\\651103195.py:8: FutureWarning: The frame.append method is deprecated and will be removed from pandas in a future version. Use pandas.concat instead.\n",
      "  df_consolidador = df_consolidador.append(df_check, ignore_index=True)\n"
     ]
    },
    {
     "name": "stdout",
     "output_type": "stream",
     "text": [
      "BR01_10_10_lista_20220605_023729.csv\n",
      "Tabela Consolidada com tamanho 356414\n"
     ]
    },
    {
     "name": "stderr",
     "output_type": "stream",
     "text": [
      "C:\\Users\\orochage\\AppData\\Local\\Temp\\1\\ipykernel_24168\\651103195.py:8: FutureWarning: The frame.append method is deprecated and will be removed from pandas in a future version. Use pandas.concat instead.\n",
      "  df_consolidador = df_consolidador.append(df_check, ignore_index=True)\n"
     ]
    },
    {
     "name": "stdout",
     "output_type": "stream",
     "text": [
      "BR01_10_10_lista_20220605_031114.csv\n",
      "Tabela Consolidada com tamanho 374384\n"
     ]
    },
    {
     "name": "stderr",
     "output_type": "stream",
     "text": [
      "C:\\Users\\orochage\\AppData\\Local\\Temp\\1\\ipykernel_24168\\651103195.py:8: FutureWarning: The frame.append method is deprecated and will be removed from pandas in a future version. Use pandas.concat instead.\n",
      "  df_consolidador = df_consolidador.append(df_check, ignore_index=True)\n"
     ]
    },
    {
     "name": "stdout",
     "output_type": "stream",
     "text": [
      "BR01_10_10_lista_20220605_041533.csv\n",
      "Tabela Consolidada com tamanho 392354\n"
     ]
    },
    {
     "name": "stderr",
     "output_type": "stream",
     "text": [
      "C:\\Users\\orochage\\AppData\\Local\\Temp\\1\\ipykernel_24168\\651103195.py:8: FutureWarning: The frame.append method is deprecated and will be removed from pandas in a future version. Use pandas.concat instead.\n",
      "  df_consolidador = df_consolidador.append(df_check, ignore_index=True)\n"
     ]
    },
    {
     "name": "stdout",
     "output_type": "stream",
     "text": [
      "BR01_10_10_lista_20220605_050930.csv\n",
      "Tabela Consolidada com tamanho 408527\n"
     ]
    },
    {
     "name": "stderr",
     "output_type": "stream",
     "text": [
      "C:\\Users\\orochage\\AppData\\Local\\Temp\\1\\ipykernel_24168\\651103195.py:8: FutureWarning: The frame.append method is deprecated and will be removed from pandas in a future version. Use pandas.concat instead.\n",
      "  df_consolidador = df_consolidador.append(df_check, ignore_index=True)\n"
     ]
    },
    {
     "name": "stdout",
     "output_type": "stream",
     "text": [
      "BR01_10_10_lista_20220624_011207.csv\n",
      "Tabela Consolidada com tamanho 424029\n"
     ]
    },
    {
     "name": "stderr",
     "output_type": "stream",
     "text": [
      "C:\\Users\\orochage\\AppData\\Local\\Temp\\1\\ipykernel_24168\\651103195.py:8: FutureWarning: The frame.append method is deprecated and will be removed from pandas in a future version. Use pandas.concat instead.\n",
      "  df_consolidador = df_consolidador.append(df_check, ignore_index=True)\n"
     ]
    },
    {
     "name": "stdout",
     "output_type": "stream",
     "text": [
      "BR01_10_10_lista_20220624_012445.csv\n",
      "Tabela Consolidada com tamanho 441939\n"
     ]
    },
    {
     "name": "stderr",
     "output_type": "stream",
     "text": [
      "C:\\Users\\orochage\\AppData\\Local\\Temp\\1\\ipykernel_24168\\651103195.py:8: FutureWarning: The frame.append method is deprecated and will be removed from pandas in a future version. Use pandas.concat instead.\n",
      "  df_consolidador = df_consolidador.append(df_check, ignore_index=True)\n"
     ]
    },
    {
     "name": "stdout",
     "output_type": "stream",
     "text": [
      "BR01_10_10_lista_20220624_013727.csv\n",
      "Tabela Consolidada com tamanho 460209\n"
     ]
    },
    {
     "name": "stderr",
     "output_type": "stream",
     "text": [
      "C:\\Users\\orochage\\AppData\\Local\\Temp\\1\\ipykernel_24168\\651103195.py:8: FutureWarning: The frame.append method is deprecated and will be removed from pandas in a future version. Use pandas.concat instead.\n",
      "  df_consolidador = df_consolidador.append(df_check, ignore_index=True)\n"
     ]
    },
    {
     "name": "stdout",
     "output_type": "stream",
     "text": [
      "BR01_10_10_lista_20220624_014808.csv\n",
      "Tabela Consolidada com tamanho 476469\n"
     ]
    },
    {
     "name": "stderr",
     "output_type": "stream",
     "text": [
      "C:\\Users\\orochage\\AppData\\Local\\Temp\\1\\ipykernel_24168\\651103195.py:8: FutureWarning: The frame.append method is deprecated and will be removed from pandas in a future version. Use pandas.concat instead.\n",
      "  df_consolidador = df_consolidador.append(df_check, ignore_index=True)\n"
     ]
    },
    {
     "name": "stdout",
     "output_type": "stream",
     "text": [
      "BR01_10_10_lista_20220624_015916.csv\n",
      "Tabela Consolidada com tamanho 494799\n"
     ]
    },
    {
     "name": "stderr",
     "output_type": "stream",
     "text": [
      "C:\\Users\\orochage\\AppData\\Local\\Temp\\1\\ipykernel_24168\\651103195.py:8: FutureWarning: The frame.append method is deprecated and will be removed from pandas in a future version. Use pandas.concat instead.\n",
      "  df_consolidador = df_consolidador.append(df_check, ignore_index=True)\n"
     ]
    },
    {
     "name": "stdout",
     "output_type": "stream",
     "text": [
      "BR01_10_10_lista_20220624_021618.csv\n",
      "Tabela Consolidada com tamanho 512589\n"
     ]
    },
    {
     "name": "stderr",
     "output_type": "stream",
     "text": [
      "C:\\Users\\orochage\\AppData\\Local\\Temp\\1\\ipykernel_24168\\651103195.py:8: FutureWarning: The frame.append method is deprecated and will be removed from pandas in a future version. Use pandas.concat instead.\n",
      "  df_consolidador = df_consolidador.append(df_check, ignore_index=True)\n"
     ]
    },
    {
     "name": "stdout",
     "output_type": "stream",
     "text": [
      "BR01_10_10_lista_20220624_023154.csv\n",
      "Tabela Consolidada com tamanho 530949\n"
     ]
    },
    {
     "name": "stderr",
     "output_type": "stream",
     "text": [
      "C:\\Users\\orochage\\AppData\\Local\\Temp\\1\\ipykernel_24168\\651103195.py:8: FutureWarning: The frame.append method is deprecated and will be removed from pandas in a future version. Use pandas.concat instead.\n",
      "  df_consolidador = df_consolidador.append(df_check, ignore_index=True)\n"
     ]
    },
    {
     "name": "stdout",
     "output_type": "stream",
     "text": [
      "BR01_10_10_lista_20220624_024527.csv\n",
      "Tabela Consolidada com tamanho 549279\n"
     ]
    },
    {
     "name": "stderr",
     "output_type": "stream",
     "text": [
      "C:\\Users\\orochage\\AppData\\Local\\Temp\\1\\ipykernel_24168\\651103195.py:8: FutureWarning: The frame.append method is deprecated and will be removed from pandas in a future version. Use pandas.concat instead.\n",
      "  df_consolidador = df_consolidador.append(df_check, ignore_index=True)\n"
     ]
    },
    {
     "name": "stdout",
     "output_type": "stream",
     "text": [
      "BR01_10_10_lista_20220624_025717.csv\n",
      "Tabela Consolidada com tamanho 567549\n"
     ]
    },
    {
     "name": "stderr",
     "output_type": "stream",
     "text": [
      "C:\\Users\\orochage\\AppData\\Local\\Temp\\1\\ipykernel_24168\\651103195.py:8: FutureWarning: The frame.append method is deprecated and will be removed from pandas in a future version. Use pandas.concat instead.\n",
      "  df_consolidador = df_consolidador.append(df_check, ignore_index=True)\n"
     ]
    },
    {
     "name": "stdout",
     "output_type": "stream",
     "text": [
      "BR01_10_10_lista_20220624_030956.csv\n",
      "Tabela Consolidada com tamanho 585879\n"
     ]
    },
    {
     "name": "stderr",
     "output_type": "stream",
     "text": [
      "C:\\Users\\orochage\\AppData\\Local\\Temp\\1\\ipykernel_24168\\651103195.py:8: FutureWarning: The frame.append method is deprecated and will be removed from pandas in a future version. Use pandas.concat instead.\n",
      "  df_consolidador = df_consolidador.append(df_check, ignore_index=True)\n"
     ]
    },
    {
     "name": "stdout",
     "output_type": "stream",
     "text": [
      "BR01_10_10_lista_20220624_034129.csv\n",
      "Tabela Consolidada com tamanho 604299\n"
     ]
    },
    {
     "name": "stderr",
     "output_type": "stream",
     "text": [
      "C:\\Users\\orochage\\AppData\\Local\\Temp\\1\\ipykernel_24168\\651103195.py:8: FutureWarning: The frame.append method is deprecated and will be removed from pandas in a future version. Use pandas.concat instead.\n",
      "  df_consolidador = df_consolidador.append(df_check, ignore_index=True)\n"
     ]
    },
    {
     "name": "stdout",
     "output_type": "stream",
     "text": [
      "BR01_10_10_lista_20220624_035426.csv\n",
      "Tabela Consolidada com tamanho 620589\n"
     ]
    },
    {
     "name": "stderr",
     "output_type": "stream",
     "text": [
      "C:\\Users\\orochage\\AppData\\Local\\Temp\\1\\ipykernel_24168\\651103195.py:8: FutureWarning: The frame.append method is deprecated and will be removed from pandas in a future version. Use pandas.concat instead.\n",
      "  df_consolidador = df_consolidador.append(df_check, ignore_index=True)\n"
     ]
    },
    {
     "name": "stdout",
     "output_type": "stream",
     "text": [
      "BR01_10_10_lista_20220624_040641.csv\n",
      "Tabela Consolidada com tamanho 638469\n"
     ]
    },
    {
     "name": "stderr",
     "output_type": "stream",
     "text": [
      "C:\\Users\\orochage\\AppData\\Local\\Temp\\1\\ipykernel_24168\\651103195.py:8: FutureWarning: The frame.append method is deprecated and will be removed from pandas in a future version. Use pandas.concat instead.\n",
      "  df_consolidador = df_consolidador.append(df_check, ignore_index=True)\n"
     ]
    },
    {
     "name": "stdout",
     "output_type": "stream",
     "text": [
      "BR01_10_10_lista_20220624_041907.csv\n",
      "Tabela Consolidada com tamanho 655449\n"
     ]
    },
    {
     "name": "stderr",
     "output_type": "stream",
     "text": [
      "C:\\Users\\orochage\\AppData\\Local\\Temp\\1\\ipykernel_24168\\651103195.py:8: FutureWarning: The frame.append method is deprecated and will be removed from pandas in a future version. Use pandas.concat instead.\n",
      "  df_consolidador = df_consolidador.append(df_check, ignore_index=True)\n"
     ]
    },
    {
     "name": "stdout",
     "output_type": "stream",
     "text": [
      "BR01_10_10_lista_20220624_042358.csv\n",
      "Tabela Consolidada com tamanho 664051\n"
     ]
    },
    {
     "name": "stderr",
     "output_type": "stream",
     "text": [
      "C:\\Users\\orochage\\AppData\\Local\\Temp\\1\\ipykernel_24168\\651103195.py:8: FutureWarning: The frame.append method is deprecated and will be removed from pandas in a future version. Use pandas.concat instead.\n",
      "  df_consolidador = df_consolidador.append(df_check, ignore_index=True)\n"
     ]
    },
    {
     "name": "stdout",
     "output_type": "stream",
     "text": [
      "BR01_11_10_lista_20220605_054755.csv\n",
      "Tabela Consolidada com tamanho 681306\n"
     ]
    },
    {
     "name": "stderr",
     "output_type": "stream",
     "text": [
      "C:\\Users\\orochage\\AppData\\Local\\Temp\\1\\ipykernel_24168\\651103195.py:8: FutureWarning: The frame.append method is deprecated and will be removed from pandas in a future version. Use pandas.concat instead.\n",
      "  df_consolidador = df_consolidador.append(df_check, ignore_index=True)\n"
     ]
    },
    {
     "name": "stdout",
     "output_type": "stream",
     "text": [
      "BR01_11_10_lista_20220605_062107.csv\n",
      "Tabela Consolidada com tamanho 699156\n"
     ]
    },
    {
     "name": "stderr",
     "output_type": "stream",
     "text": [
      "C:\\Users\\orochage\\AppData\\Local\\Temp\\1\\ipykernel_24168\\651103195.py:8: FutureWarning: The frame.append method is deprecated and will be removed from pandas in a future version. Use pandas.concat instead.\n",
      "  df_consolidador = df_consolidador.append(df_check, ignore_index=True)\n"
     ]
    },
    {
     "name": "stdout",
     "output_type": "stream",
     "text": [
      "BR01_11_10_lista_20220605_065212.csv\n",
      "Tabela Consolidada com tamanho 717006\n"
     ]
    },
    {
     "name": "stderr",
     "output_type": "stream",
     "text": [
      "C:\\Users\\orochage\\AppData\\Local\\Temp\\1\\ipykernel_24168\\651103195.py:8: FutureWarning: The frame.append method is deprecated and will be removed from pandas in a future version. Use pandas.concat instead.\n",
      "  df_consolidador = df_consolidador.append(df_check, ignore_index=True)\n"
     ]
    },
    {
     "name": "stdout",
     "output_type": "stream",
     "text": [
      "BR01_11_10_lista_20220605_072250.csv\n",
      "Tabela Consolidada com tamanho 734856\n"
     ]
    },
    {
     "name": "stderr",
     "output_type": "stream",
     "text": [
      "C:\\Users\\orochage\\AppData\\Local\\Temp\\1\\ipykernel_24168\\651103195.py:8: FutureWarning: The frame.append method is deprecated and will be removed from pandas in a future version. Use pandas.concat instead.\n",
      "  df_consolidador = df_consolidador.append(df_check, ignore_index=True)\n"
     ]
    },
    {
     "name": "stdout",
     "output_type": "stream",
     "text": [
      "BR01_11_10_lista_20220605_074834.csv\n",
      "Tabela Consolidada com tamanho 752114\n"
     ]
    },
    {
     "name": "stderr",
     "output_type": "stream",
     "text": [
      "C:\\Users\\orochage\\AppData\\Local\\Temp\\1\\ipykernel_24168\\651103195.py:8: FutureWarning: The frame.append method is deprecated and will be removed from pandas in a future version. Use pandas.concat instead.\n",
      "  df_consolidador = df_consolidador.append(df_check, ignore_index=True)\n"
     ]
    },
    {
     "name": "stdout",
     "output_type": "stream",
     "text": [
      "BR01_11_10_lista_20220605_082007.csv\n",
      "Tabela Consolidada com tamanho 769964\n"
     ]
    },
    {
     "name": "stderr",
     "output_type": "stream",
     "text": [
      "C:\\Users\\orochage\\AppData\\Local\\Temp\\1\\ipykernel_24168\\651103195.py:8: FutureWarning: The frame.append method is deprecated and will be removed from pandas in a future version. Use pandas.concat instead.\n",
      "  df_consolidador = df_consolidador.append(df_check, ignore_index=True)\n"
     ]
    },
    {
     "name": "stdout",
     "output_type": "stream",
     "text": [
      "BR01_11_10_lista_20220605_083256.csv\n",
      "Tabela Consolidada com tamanho 787814\n"
     ]
    },
    {
     "name": "stderr",
     "output_type": "stream",
     "text": [
      "C:\\Users\\orochage\\AppData\\Local\\Temp\\1\\ipykernel_24168\\651103195.py:8: FutureWarning: The frame.append method is deprecated and will be removed from pandas in a future version. Use pandas.concat instead.\n",
      "  df_consolidador = df_consolidador.append(df_check, ignore_index=True)\n"
     ]
    },
    {
     "name": "stdout",
     "output_type": "stream",
     "text": [
      "BR01_11_10_lista_20220605_084443.csv\n",
      "Tabela Consolidada com tamanho 805664\n"
     ]
    },
    {
     "name": "stderr",
     "output_type": "stream",
     "text": [
      "C:\\Users\\orochage\\AppData\\Local\\Temp\\1\\ipykernel_24168\\651103195.py:8: FutureWarning: The frame.append method is deprecated and will be removed from pandas in a future version. Use pandas.concat instead.\n",
      "  df_consolidador = df_consolidador.append(df_check, ignore_index=True)\n"
     ]
    },
    {
     "name": "stdout",
     "output_type": "stream",
     "text": [
      "BR01_11_10_lista_20220605_085617.csv\n",
      "Tabela Consolidada com tamanho 823514\n"
     ]
    },
    {
     "name": "stderr",
     "output_type": "stream",
     "text": [
      "C:\\Users\\orochage\\AppData\\Local\\Temp\\1\\ipykernel_24168\\651103195.py:8: FutureWarning: The frame.append method is deprecated and will be removed from pandas in a future version. Use pandas.concat instead.\n",
      "  df_consolidador = df_consolidador.append(df_check, ignore_index=True)\n"
     ]
    },
    {
     "name": "stdout",
     "output_type": "stream",
     "text": [
      "BR01_11_10_lista_20220605_091108.csv\n",
      "Tabela Consolidada com tamanho 841364\n"
     ]
    },
    {
     "name": "stderr",
     "output_type": "stream",
     "text": [
      "C:\\Users\\orochage\\AppData\\Local\\Temp\\1\\ipykernel_24168\\651103195.py:8: FutureWarning: The frame.append method is deprecated and will be removed from pandas in a future version. Use pandas.concat instead.\n",
      "  df_consolidador = df_consolidador.append(df_check, ignore_index=True)\n"
     ]
    },
    {
     "name": "stdout",
     "output_type": "stream",
     "text": [
      "BR01_11_10_lista_20220605_092323.csv\n",
      "Tabela Consolidada com tamanho 859214\n"
     ]
    },
    {
     "name": "stderr",
     "output_type": "stream",
     "text": [
      "C:\\Users\\orochage\\AppData\\Local\\Temp\\1\\ipykernel_24168\\651103195.py:8: FutureWarning: The frame.append method is deprecated and will be removed from pandas in a future version. Use pandas.concat instead.\n",
      "  df_consolidador = df_consolidador.append(df_check, ignore_index=True)\n"
     ]
    },
    {
     "name": "stdout",
     "output_type": "stream",
     "text": [
      "BR01_11_10_lista_20220605_093537.csv\n",
      "Tabela Consolidada com tamanho 877064\n"
     ]
    },
    {
     "name": "stderr",
     "output_type": "stream",
     "text": [
      "C:\\Users\\orochage\\AppData\\Local\\Temp\\1\\ipykernel_24168\\651103195.py:8: FutureWarning: The frame.append method is deprecated and will be removed from pandas in a future version. Use pandas.concat instead.\n",
      "  df_consolidador = df_consolidador.append(df_check, ignore_index=True)\n"
     ]
    },
    {
     "name": "stdout",
     "output_type": "stream",
     "text": [
      "BR01_11_10_lista_20220605_094624.csv\n",
      "Tabela Consolidada com tamanho 894914\n"
     ]
    },
    {
     "name": "stderr",
     "output_type": "stream",
     "text": [
      "C:\\Users\\orochage\\AppData\\Local\\Temp\\1\\ipykernel_24168\\651103195.py:8: FutureWarning: The frame.append method is deprecated and will be removed from pandas in a future version. Use pandas.concat instead.\n",
      "  df_consolidador = df_consolidador.append(df_check, ignore_index=True)\n"
     ]
    },
    {
     "name": "stdout",
     "output_type": "stream",
     "text": [
      "BR01_11_10_lista_20220605_095931.csv\n",
      "Tabela Consolidada com tamanho 912764\n"
     ]
    },
    {
     "name": "stderr",
     "output_type": "stream",
     "text": [
      "C:\\Users\\orochage\\AppData\\Local\\Temp\\1\\ipykernel_24168\\651103195.py:8: FutureWarning: The frame.append method is deprecated and will be removed from pandas in a future version. Use pandas.concat instead.\n",
      "  df_consolidador = df_consolidador.append(df_check, ignore_index=True)\n"
     ]
    },
    {
     "name": "stdout",
     "output_type": "stream",
     "text": [
      "BR01_11_10_lista_20220605_101141.csv\n",
      "Tabela Consolidada com tamanho 930614\n"
     ]
    },
    {
     "name": "stderr",
     "output_type": "stream",
     "text": [
      "C:\\Users\\orochage\\AppData\\Local\\Temp\\1\\ipykernel_24168\\651103195.py:8: FutureWarning: The frame.append method is deprecated and will be removed from pandas in a future version. Use pandas.concat instead.\n",
      "  df_consolidador = df_consolidador.append(df_check, ignore_index=True)\n"
     ]
    },
    {
     "name": "stdout",
     "output_type": "stream",
     "text": [
      "BR01_11_10_lista_20220605_102259.csv\n",
      "Tabela Consolidada com tamanho 948464\n"
     ]
    },
    {
     "name": "stderr",
     "output_type": "stream",
     "text": [
      "C:\\Users\\orochage\\AppData\\Local\\Temp\\1\\ipykernel_24168\\651103195.py:8: FutureWarning: The frame.append method is deprecated and will be removed from pandas in a future version. Use pandas.concat instead.\n",
      "  df_consolidador = df_consolidador.append(df_check, ignore_index=True)\n"
     ]
    },
    {
     "name": "stdout",
     "output_type": "stream",
     "text": [
      "BR01_11_10_lista_20220605_103629.csv\n",
      "Tabela Consolidada com tamanho 966314\n"
     ]
    },
    {
     "name": "stderr",
     "output_type": "stream",
     "text": [
      "C:\\Users\\orochage\\AppData\\Local\\Temp\\1\\ipykernel_24168\\651103195.py:8: FutureWarning: The frame.append method is deprecated and will be removed from pandas in a future version. Use pandas.concat instead.\n",
      "  df_consolidador = df_consolidador.append(df_check, ignore_index=True)\n"
     ]
    },
    {
     "name": "stdout",
     "output_type": "stream",
     "text": [
      "BR01_11_10_lista_20220605_104835.csv\n",
      "Tabela Consolidada com tamanho 984164\n"
     ]
    },
    {
     "name": "stderr",
     "output_type": "stream",
     "text": [
      "C:\\Users\\orochage\\AppData\\Local\\Temp\\1\\ipykernel_24168\\651103195.py:8: FutureWarning: The frame.append method is deprecated and will be removed from pandas in a future version. Use pandas.concat instead.\n",
      "  df_consolidador = df_consolidador.append(df_check, ignore_index=True)\n"
     ]
    },
    {
     "name": "stdout",
     "output_type": "stream",
     "text": [
      "BR01_11_10_lista_20220605_110044.csv\n",
      "Tabela Consolidada com tamanho 1002014\n"
     ]
    },
    {
     "name": "stderr",
     "output_type": "stream",
     "text": [
      "C:\\Users\\orochage\\AppData\\Local\\Temp\\1\\ipykernel_24168\\651103195.py:8: FutureWarning: The frame.append method is deprecated and will be removed from pandas in a future version. Use pandas.concat instead.\n",
      "  df_consolidador = df_consolidador.append(df_check, ignore_index=True)\n"
     ]
    },
    {
     "name": "stdout",
     "output_type": "stream",
     "text": [
      "BR01_11_10_lista_20220605_111209.csv\n",
      "Tabela Consolidada com tamanho 1019864\n"
     ]
    },
    {
     "name": "stderr",
     "output_type": "stream",
     "text": [
      "C:\\Users\\orochage\\AppData\\Local\\Temp\\1\\ipykernel_24168\\651103195.py:8: FutureWarning: The frame.append method is deprecated and will be removed from pandas in a future version. Use pandas.concat instead.\n",
      "  df_consolidador = df_consolidador.append(df_check, ignore_index=True)\n"
     ]
    },
    {
     "name": "stdout",
     "output_type": "stream",
     "text": [
      "BR01_11_10_lista_20220605_112308.csv\n",
      "Tabela Consolidada com tamanho 1037714\n"
     ]
    },
    {
     "name": "stderr",
     "output_type": "stream",
     "text": [
      "C:\\Users\\orochage\\AppData\\Local\\Temp\\1\\ipykernel_24168\\651103195.py:8: FutureWarning: The frame.append method is deprecated and will be removed from pandas in a future version. Use pandas.concat instead.\n",
      "  df_consolidador = df_consolidador.append(df_check, ignore_index=True)\n"
     ]
    },
    {
     "name": "stdout",
     "output_type": "stream",
     "text": [
      "BR01_11_10_lista_20220605_113442.csv\n",
      "Tabela Consolidada com tamanho 1055564\n"
     ]
    },
    {
     "name": "stderr",
     "output_type": "stream",
     "text": [
      "C:\\Users\\orochage\\AppData\\Local\\Temp\\1\\ipykernel_24168\\651103195.py:8: FutureWarning: The frame.append method is deprecated and will be removed from pandas in a future version. Use pandas.concat instead.\n",
      "  df_consolidador = df_consolidador.append(df_check, ignore_index=True)\n"
     ]
    },
    {
     "name": "stdout",
     "output_type": "stream",
     "text": [
      "BR01_11_10_lista_20220605_114845.csv\n",
      "Tabela Consolidada com tamanho 1073414\n"
     ]
    },
    {
     "name": "stderr",
     "output_type": "stream",
     "text": [
      "C:\\Users\\orochage\\AppData\\Local\\Temp\\1\\ipykernel_24168\\651103195.py:8: FutureWarning: The frame.append method is deprecated and will be removed from pandas in a future version. Use pandas.concat instead.\n",
      "  df_consolidador = df_consolidador.append(df_check, ignore_index=True)\n"
     ]
    },
    {
     "name": "stdout",
     "output_type": "stream",
     "text": [
      "BR01_11_10_lista_20220605_120110.csv\n",
      "Tabela Consolidada com tamanho 1091264\n"
     ]
    },
    {
     "name": "stderr",
     "output_type": "stream",
     "text": [
      "C:\\Users\\orochage\\AppData\\Local\\Temp\\1\\ipykernel_24168\\651103195.py:8: FutureWarning: The frame.append method is deprecated and will be removed from pandas in a future version. Use pandas.concat instead.\n",
      "  df_consolidador = df_consolidador.append(df_check, ignore_index=True)\n"
     ]
    },
    {
     "name": "stdout",
     "output_type": "stream",
     "text": [
      "BR01_11_10_lista_20220605_121316.csv\n",
      "Tabela Consolidada com tamanho 1109114\n"
     ]
    },
    {
     "name": "stderr",
     "output_type": "stream",
     "text": [
      "C:\\Users\\orochage\\AppData\\Local\\Temp\\1\\ipykernel_24168\\651103195.py:8: FutureWarning: The frame.append method is deprecated and will be removed from pandas in a future version. Use pandas.concat instead.\n",
      "  df_consolidador = df_consolidador.append(df_check, ignore_index=True)\n"
     ]
    },
    {
     "name": "stdout",
     "output_type": "stream",
     "text": [
      "BR01_11_10_lista_20220605_122422.csv\n",
      "Tabela Consolidada com tamanho 1126964\n"
     ]
    },
    {
     "name": "stderr",
     "output_type": "stream",
     "text": [
      "C:\\Users\\orochage\\AppData\\Local\\Temp\\1\\ipykernel_24168\\651103195.py:8: FutureWarning: The frame.append method is deprecated and will be removed from pandas in a future version. Use pandas.concat instead.\n",
      "  df_consolidador = df_consolidador.append(df_check, ignore_index=True)\n"
     ]
    },
    {
     "name": "stdout",
     "output_type": "stream",
     "text": [
      "BR01_11_10_lista_20220605_123619.csv\n",
      "Tabela Consolidada com tamanho 1144814\n"
     ]
    },
    {
     "name": "stderr",
     "output_type": "stream",
     "text": [
      "C:\\Users\\orochage\\AppData\\Local\\Temp\\1\\ipykernel_24168\\651103195.py:8: FutureWarning: The frame.append method is deprecated and will be removed from pandas in a future version. Use pandas.concat instead.\n",
      "  df_consolidador = df_consolidador.append(df_check, ignore_index=True)\n"
     ]
    },
    {
     "name": "stdout",
     "output_type": "stream",
     "text": [
      "BR01_11_10_lista_20220605_124952.csv\n",
      "Tabela Consolidada com tamanho 1162664\n"
     ]
    },
    {
     "name": "stderr",
     "output_type": "stream",
     "text": [
      "C:\\Users\\orochage\\AppData\\Local\\Temp\\1\\ipykernel_24168\\651103195.py:8: FutureWarning: The frame.append method is deprecated and will be removed from pandas in a future version. Use pandas.concat instead.\n",
      "  df_consolidador = df_consolidador.append(df_check, ignore_index=True)\n"
     ]
    },
    {
     "name": "stdout",
     "output_type": "stream",
     "text": [
      "BR01_11_10_lista_20220605_125947.csv\n",
      "Tabela Consolidada com tamanho 1180514\n"
     ]
    },
    {
     "name": "stderr",
     "output_type": "stream",
     "text": [
      "C:\\Users\\orochage\\AppData\\Local\\Temp\\1\\ipykernel_24168\\651103195.py:8: FutureWarning: The frame.append method is deprecated and will be removed from pandas in a future version. Use pandas.concat instead.\n",
      "  df_consolidador = df_consolidador.append(df_check, ignore_index=True)\n"
     ]
    },
    {
     "name": "stdout",
     "output_type": "stream",
     "text": [
      "BR01_11_10_lista_20220605_130812.csv\n",
      "Tabela Consolidada com tamanho 1196579\n"
     ]
    },
    {
     "name": "stderr",
     "output_type": "stream",
     "text": [
      "C:\\Users\\orochage\\AppData\\Local\\Temp\\1\\ipykernel_24168\\651103195.py:8: FutureWarning: The frame.append method is deprecated and will be removed from pandas in a future version. Use pandas.concat instead.\n",
      "  df_consolidador = df_consolidador.append(df_check, ignore_index=True)\n"
     ]
    },
    {
     "name": "stdout",
     "output_type": "stream",
     "text": [
      "BR01_11_10_lista_20220623_211841.csv\n",
      "Tabela Consolidada com tamanho 1213863\n"
     ]
    },
    {
     "name": "stderr",
     "output_type": "stream",
     "text": [
      "C:\\Users\\orochage\\AppData\\Local\\Temp\\1\\ipykernel_24168\\651103195.py:8: FutureWarning: The frame.append method is deprecated and will be removed from pandas in a future version. Use pandas.concat instead.\n",
      "  df_consolidador = df_consolidador.append(df_check, ignore_index=True)\n"
     ]
    },
    {
     "name": "stdout",
     "output_type": "stream",
     "text": [
      "BR01_11_10_lista_20220623_213253.csv\n",
      "Tabela Consolidada com tamanho 1231953\n"
     ]
    },
    {
     "name": "stderr",
     "output_type": "stream",
     "text": [
      "C:\\Users\\orochage\\AppData\\Local\\Temp\\1\\ipykernel_24168\\651103195.py:8: FutureWarning: The frame.append method is deprecated and will be removed from pandas in a future version. Use pandas.concat instead.\n",
      "  df_consolidador = df_consolidador.append(df_check, ignore_index=True)\n"
     ]
    },
    {
     "name": "stdout",
     "output_type": "stream",
     "text": [
      "BR01_11_10_lista_20220623_214537.csv\n",
      "Tabela Consolidada com tamanho 1249683\n"
     ]
    },
    {
     "name": "stderr",
     "output_type": "stream",
     "text": [
      "C:\\Users\\orochage\\AppData\\Local\\Temp\\1\\ipykernel_24168\\651103195.py:8: FutureWarning: The frame.append method is deprecated and will be removed from pandas in a future version. Use pandas.concat instead.\n",
      "  df_consolidador = df_consolidador.append(df_check, ignore_index=True)\n"
     ]
    },
    {
     "name": "stdout",
     "output_type": "stream",
     "text": [
      "BR01_11_10_lista_20220623_220400.csv\n",
      "Tabela Consolidada com tamanho 1267057\n"
     ]
    },
    {
     "name": "stderr",
     "output_type": "stream",
     "text": [
      "C:\\Users\\orochage\\AppData\\Local\\Temp\\1\\ipykernel_24168\\651103195.py:8: FutureWarning: The frame.append method is deprecated and will be removed from pandas in a future version. Use pandas.concat instead.\n",
      "  df_consolidador = df_consolidador.append(df_check, ignore_index=True)\n"
     ]
    },
    {
     "name": "stdout",
     "output_type": "stream",
     "text": [
      "BR01_11_10_lista_20220623_221855.csv\n",
      "Tabela Consolidada com tamanho 1283857\n"
     ]
    },
    {
     "name": "stderr",
     "output_type": "stream",
     "text": [
      "C:\\Users\\orochage\\AppData\\Local\\Temp\\1\\ipykernel_24168\\651103195.py:8: FutureWarning: The frame.append method is deprecated and will be removed from pandas in a future version. Use pandas.concat instead.\n",
      "  df_consolidador = df_consolidador.append(df_check, ignore_index=True)\n"
     ]
    },
    {
     "name": "stdout",
     "output_type": "stream",
     "text": [
      "BR01_11_10_lista_20220623_223055.csv\n",
      "Tabela Consolidada com tamanho 1301677\n"
     ]
    },
    {
     "name": "stderr",
     "output_type": "stream",
     "text": [
      "C:\\Users\\orochage\\AppData\\Local\\Temp\\1\\ipykernel_24168\\651103195.py:8: FutureWarning: The frame.append method is deprecated and will be removed from pandas in a future version. Use pandas.concat instead.\n",
      "  df_consolidador = df_consolidador.append(df_check, ignore_index=True)\n"
     ]
    },
    {
     "name": "stdout",
     "output_type": "stream",
     "text": [
      "BR01_11_10_lista_20220623_223800.csv\n",
      "Tabela Consolidada com tamanho 1313887\n"
     ]
    },
    {
     "name": "stderr",
     "output_type": "stream",
     "text": [
      "C:\\Users\\orochage\\AppData\\Local\\Temp\\1\\ipykernel_24168\\651103195.py:8: FutureWarning: The frame.append method is deprecated and will be removed from pandas in a future version. Use pandas.concat instead.\n",
      "  df_consolidador = df_consolidador.append(df_check, ignore_index=True)\n"
     ]
    },
    {
     "name": "stdout",
     "output_type": "stream",
     "text": [
      "BR01_11_10_lista_20220623_224142.csv\n",
      "Tabela Consolidada com tamanho 1321687\n"
     ]
    },
    {
     "name": "stderr",
     "output_type": "stream",
     "text": [
      "C:\\Users\\orochage\\AppData\\Local\\Temp\\1\\ipykernel_24168\\651103195.py:8: FutureWarning: The frame.append method is deprecated and will be removed from pandas in a future version. Use pandas.concat instead.\n",
      "  df_consolidador = df_consolidador.append(df_check, ignore_index=True)\n"
     ]
    },
    {
     "name": "stdout",
     "output_type": "stream",
     "text": [
      "BR01_11_10_lista_20220623_225351.csv\n",
      "Tabela Consolidada com tamanho 1336897\n"
     ]
    },
    {
     "name": "stderr",
     "output_type": "stream",
     "text": [
      "C:\\Users\\orochage\\AppData\\Local\\Temp\\1\\ipykernel_24168\\651103195.py:8: FutureWarning: The frame.append method is deprecated and will be removed from pandas in a future version. Use pandas.concat instead.\n",
      "  df_consolidador = df_consolidador.append(df_check, ignore_index=True)\n"
     ]
    },
    {
     "name": "stdout",
     "output_type": "stream",
     "text": [
      "BR01_11_10_lista_20220623_230311.csv\n",
      "Tabela Consolidada com tamanho 1350937\n"
     ]
    },
    {
     "name": "stderr",
     "output_type": "stream",
     "text": [
      "C:\\Users\\orochage\\AppData\\Local\\Temp\\1\\ipykernel_24168\\651103195.py:8: FutureWarning: The frame.append method is deprecated and will be removed from pandas in a future version. Use pandas.concat instead.\n",
      "  df_consolidador = df_consolidador.append(df_check, ignore_index=True)\n"
     ]
    },
    {
     "name": "stdout",
     "output_type": "stream",
     "text": [
      "BR01_11_10_lista_20220623_231345.csv\n",
      "Tabela Consolidada com tamanho 1365277\n"
     ]
    },
    {
     "name": "stderr",
     "output_type": "stream",
     "text": [
      "C:\\Users\\orochage\\AppData\\Local\\Temp\\1\\ipykernel_24168\\651103195.py:8: FutureWarning: The frame.append method is deprecated and will be removed from pandas in a future version. Use pandas.concat instead.\n",
      "  df_consolidador = df_consolidador.append(df_check, ignore_index=True)\n"
     ]
    },
    {
     "name": "stdout",
     "output_type": "stream",
     "text": [
      "BR01_11_10_lista_20220623_231905.csv\n",
      "Tabela Consolidada com tamanho 1374637\n"
     ]
    },
    {
     "name": "stderr",
     "output_type": "stream",
     "text": [
      "C:\\Users\\orochage\\AppData\\Local\\Temp\\1\\ipykernel_24168\\651103195.py:8: FutureWarning: The frame.append method is deprecated and will be removed from pandas in a future version. Use pandas.concat instead.\n",
      "  df_consolidador = df_consolidador.append(df_check, ignore_index=True)\n"
     ]
    },
    {
     "name": "stdout",
     "output_type": "stream",
     "text": [
      "BR01_11_10_lista_20220623_233043.csv\n",
      "Tabela Consolidada com tamanho 1389877\n"
     ]
    },
    {
     "name": "stderr",
     "output_type": "stream",
     "text": [
      "C:\\Users\\orochage\\AppData\\Local\\Temp\\1\\ipykernel_24168\\651103195.py:8: FutureWarning: The frame.append method is deprecated and will be removed from pandas in a future version. Use pandas.concat instead.\n",
      "  df_consolidador = df_consolidador.append(df_check, ignore_index=True)\n"
     ]
    },
    {
     "name": "stdout",
     "output_type": "stream",
     "text": [
      "BR01_11_10_lista_20220623_233705.csv\n",
      "Tabela Consolidada com tamanho 1401067\n"
     ]
    },
    {
     "name": "stderr",
     "output_type": "stream",
     "text": [
      "C:\\Users\\orochage\\AppData\\Local\\Temp\\1\\ipykernel_24168\\651103195.py:8: FutureWarning: The frame.append method is deprecated and will be removed from pandas in a future version. Use pandas.concat instead.\n",
      "  df_consolidador = df_consolidador.append(df_check, ignore_index=True)\n"
     ]
    },
    {
     "name": "stdout",
     "output_type": "stream",
     "text": [
      "BR01_11_10_lista_20220623_234524.csv\n",
      "Tabela Consolidada com tamanho 1414177\n"
     ]
    },
    {
     "name": "stderr",
     "output_type": "stream",
     "text": [
      "C:\\Users\\orochage\\AppData\\Local\\Temp\\1\\ipykernel_24168\\651103195.py:8: FutureWarning: The frame.append method is deprecated and will be removed from pandas in a future version. Use pandas.concat instead.\n",
      "  df_consolidador = df_consolidador.append(df_check, ignore_index=True)\n"
     ]
    },
    {
     "name": "stdout",
     "output_type": "stream",
     "text": [
      "BR01_11_10_lista_20220623_235412.csv\n",
      "Tabela Consolidada com tamanho 1428037\n"
     ]
    },
    {
     "name": "stderr",
     "output_type": "stream",
     "text": [
      "C:\\Users\\orochage\\AppData\\Local\\Temp\\1\\ipykernel_24168\\651103195.py:8: FutureWarning: The frame.append method is deprecated and will be removed from pandas in a future version. Use pandas.concat instead.\n",
      "  df_consolidador = df_consolidador.append(df_check, ignore_index=True)\n"
     ]
    },
    {
     "name": "stdout",
     "output_type": "stream",
     "text": [
      "BR01_11_10_lista_20220624_000512.csv\n",
      "Tabela Consolidada com tamanho 1444567\n"
     ]
    },
    {
     "name": "stderr",
     "output_type": "stream",
     "text": [
      "C:\\Users\\orochage\\AppData\\Local\\Temp\\1\\ipykernel_24168\\651103195.py:8: FutureWarning: The frame.append method is deprecated and will be removed from pandas in a future version. Use pandas.concat instead.\n",
      "  df_consolidador = df_consolidador.append(df_check, ignore_index=True)\n"
     ]
    },
    {
     "name": "stdout",
     "output_type": "stream",
     "text": [
      "BR01_11_10_lista_20220624_003359.csv\n",
      "Tabela Consolidada com tamanho 1460407\n"
     ]
    },
    {
     "name": "stderr",
     "output_type": "stream",
     "text": [
      "C:\\Users\\orochage\\AppData\\Local\\Temp\\1\\ipykernel_24168\\651103195.py:8: FutureWarning: The frame.append method is deprecated and will be removed from pandas in a future version. Use pandas.concat instead.\n",
      "  df_consolidador = df_consolidador.append(df_check, ignore_index=True)\n"
     ]
    },
    {
     "name": "stdout",
     "output_type": "stream",
     "text": [
      "BR01_11_10_lista_20220624_003847.csv\n",
      "Tabela Consolidada com tamanho 1468747\n"
     ]
    },
    {
     "name": "stderr",
     "output_type": "stream",
     "text": [
      "C:\\Users\\orochage\\AppData\\Local\\Temp\\1\\ipykernel_24168\\651103195.py:8: FutureWarning: The frame.append method is deprecated and will be removed from pandas in a future version. Use pandas.concat instead.\n",
      "  df_consolidador = df_consolidador.append(df_check, ignore_index=True)\n"
     ]
    },
    {
     "name": "stdout",
     "output_type": "stream",
     "text": [
      "BR01_11_10_lista_20220624_004558.csv\n",
      "Tabela Consolidada com tamanho 1478767\n"
     ]
    },
    {
     "name": "stderr",
     "output_type": "stream",
     "text": [
      "C:\\Users\\orochage\\AppData\\Local\\Temp\\1\\ipykernel_24168\\651103195.py:8: FutureWarning: The frame.append method is deprecated and will be removed from pandas in a future version. Use pandas.concat instead.\n",
      "  df_consolidador = df_consolidador.append(df_check, ignore_index=True)\n"
     ]
    },
    {
     "name": "stdout",
     "output_type": "stream",
     "text": [
      "BR01_11_10_lista_20220624_005425.csv\n",
      "Tabela Consolidada com tamanho 1491337\n"
     ]
    },
    {
     "name": "stderr",
     "output_type": "stream",
     "text": [
      "C:\\Users\\orochage\\AppData\\Local\\Temp\\1\\ipykernel_24168\\651103195.py:8: FutureWarning: The frame.append method is deprecated and will be removed from pandas in a future version. Use pandas.concat instead.\n",
      "  df_consolidador = df_consolidador.append(df_check, ignore_index=True)\n"
     ]
    },
    {
     "name": "stdout",
     "output_type": "stream",
     "text": [
      "BR01_11_10_lista_20220624_005801.csv\n",
      "Tabela Consolidada com tamanho 1498507\n"
     ]
    },
    {
     "name": "stderr",
     "output_type": "stream",
     "text": [
      "C:\\Users\\orochage\\AppData\\Local\\Temp\\1\\ipykernel_24168\\651103195.py:8: FutureWarning: The frame.append method is deprecated and will be removed from pandas in a future version. Use pandas.concat instead.\n",
      "  df_consolidador = df_consolidador.append(df_check, ignore_index=True)\n"
     ]
    },
    {
     "name": "stdout",
     "output_type": "stream",
     "text": [
      "BR01_11_10_lista_20220624_005857.csv\n",
      "Tabela Consolidada com tamanho 1500256\n"
     ]
    },
    {
     "name": "stderr",
     "output_type": "stream",
     "text": [
      "C:\\Users\\orochage\\AppData\\Local\\Temp\\1\\ipykernel_24168\\651103195.py:8: FutureWarning: The frame.append method is deprecated and will be removed from pandas in a future version. Use pandas.concat instead.\n",
      "  df_consolidador = df_consolidador.append(df_check, ignore_index=True)\n"
     ]
    },
    {
     "name": "stdout",
     "output_type": "stream",
     "text": [
      "BR01_12_10_lista_20220605_132028.csv\n",
      "Tabela Consolidada com tamanho 1517746\n"
     ]
    },
    {
     "name": "stderr",
     "output_type": "stream",
     "text": [
      "C:\\Users\\orochage\\AppData\\Local\\Temp\\1\\ipykernel_24168\\651103195.py:8: FutureWarning: The frame.append method is deprecated and will be removed from pandas in a future version. Use pandas.concat instead.\n",
      "  df_consolidador = df_consolidador.append(df_check, ignore_index=True)\n"
     ]
    },
    {
     "name": "stdout",
     "output_type": "stream",
     "text": [
      "BR01_12_10_lista_20220605_133348.csv\n",
      "Tabela Consolidada com tamanho 1535236\n"
     ]
    },
    {
     "name": "stderr",
     "output_type": "stream",
     "text": [
      "C:\\Users\\orochage\\AppData\\Local\\Temp\\1\\ipykernel_24168\\651103195.py:8: FutureWarning: The frame.append method is deprecated and will be removed from pandas in a future version. Use pandas.concat instead.\n",
      "  df_consolidador = df_consolidador.append(df_check, ignore_index=True)\n"
     ]
    },
    {
     "name": "stdout",
     "output_type": "stream",
     "text": [
      "BR01_12_10_lista_20220605_134214.csv\n",
      "Tabela Consolidada com tamanho 1547479\n"
     ]
    },
    {
     "name": "stderr",
     "output_type": "stream",
     "text": [
      "C:\\Users\\orochage\\AppData\\Local\\Temp\\1\\ipykernel_24168\\651103195.py:8: FutureWarning: The frame.append method is deprecated and will be removed from pandas in a future version. Use pandas.concat instead.\n",
      "  df_consolidador = df_consolidador.append(df_check, ignore_index=True)\n"
     ]
    },
    {
     "name": "stdout",
     "output_type": "stream",
     "text": [
      "BR01_12_10_lista_20220624_043836.csv\n",
      "Tabela Consolidada com tamanho 1565479\n"
     ]
    },
    {
     "name": "stderr",
     "output_type": "stream",
     "text": [
      "C:\\Users\\orochage\\AppData\\Local\\Temp\\1\\ipykernel_24168\\651103195.py:8: FutureWarning: The frame.append method is deprecated and will be removed from pandas in a future version. Use pandas.concat instead.\n",
      "  df_consolidador = df_consolidador.append(df_check, ignore_index=True)\n"
     ]
    },
    {
     "name": "stdout",
     "output_type": "stream",
     "text": [
      "BR01_12_10_lista_20220624_045338.csv\n",
      "Tabela Consolidada com tamanho 1583629\n"
     ]
    },
    {
     "name": "stderr",
     "output_type": "stream",
     "text": [
      "C:\\Users\\orochage\\AppData\\Local\\Temp\\1\\ipykernel_24168\\651103195.py:8: FutureWarning: The frame.append method is deprecated and will be removed from pandas in a future version. Use pandas.concat instead.\n",
      "  df_consolidador = df_consolidador.append(df_check, ignore_index=True)\n"
     ]
    },
    {
     "name": "stdout",
     "output_type": "stream",
     "text": [
      "BR01_12_10_lista_20220624_045516.csv\n",
      "Tabela Consolidada com tamanho 1586455\n",
      "Finalizada a consolidação.\n",
      "\n"
     ]
    }
   ],
   "source": [
    "append_dados_preco(file_path)"
   ]
  },
  {
   "cell_type": "markdown",
   "metadata": {},
   "source": [
    "### Análise de dados: arquivo reconstruído"
   ]
  },
  {
   "cell_type": "code",
   "execution_count": 30,
   "metadata": {},
   "outputs": [],
   "source": [
    "df_checagem_consolidacao = pd.read_csv(\"reconstruido/pricelist_reconstruída_31072022.csv\",encoding='ANSI', sep=',', header=0)"
   ]
  },
  {
   "cell_type": "markdown",
   "metadata": {},
   "source": [
    "### Checando a descrição do arquivo reconstruído"
   ]
  },
  {
   "cell_type": "code",
   "execution_count": 75,
   "metadata": {},
   "outputs": [
    {
     "name": "stdout",
     "output_type": "stream",
     "text": [
      "<class 'pandas.core.frame.DataFrame'>\n",
      "RangeIndex: 1586455 entries, 0 to 1586454\n",
      "Data columns (total 75 columns):\n",
      " #   Column                  Non-Null Count    Dtype \n",
      "---  ------                  --------------    ----- \n",
      " 0   Unnamed: 0              1586455 non-null  int64 \n",
      " 1   Descricao NÃ³           1584059 non-null  object\n",
      " 2   Dt Vigencia             1586455 non-null  object\n",
      " 3   Dt Emitida              1586455 non-null  object\n",
      " 4   Emissor Id              1586455 non-null  int64 \n",
      " 5   Emissor Name            1586455 non-null  object\n",
      " 6   CD                      1586455 non-null  object\n",
      " 7   Destino                 1586455 non-null  object\n",
      " 8   Cond Pagto Id           1586455 non-null  object\n",
      " 9   Cond Pagto Name         1585856 non-null  object\n",
      " 10  Grupo ST                1586455 non-null  object\n",
      " 11  Cliente Ativo           1586455 non-null  object\n",
      " 12  Bloqueio Credito        1586455 non-null  object\n",
      " 13  Produto                 1586455 non-null  int64 \n",
      " 14  EAN                     1586455 non-null  int64 \n",
      " 15  DescriÃ§Ã£o do Produto  1586455 non-null  object\n",
      " 16  Franquia                1586455 non-null  object\n",
      " 17  FamÃ­lia                1586455 non-null  object\n",
      " 18  Unidades                1586455 non-null  int64 \n",
      " 19  PR00                    1586455 non-null  object\n",
      " 20  ICMS+PIS+Cof            1586455 non-null  object\n",
      " 21  Encargo Fina            1586455 non-null  object\n",
      " 22  Sub Encargo             1586455 non-null  object\n",
      " 23  AjusteGross1            1586455 non-null  object\n",
      " 24  %ZW01/44                1586455 non-null  object\n",
      " 25  LogÃ­stica              1586455 non-null  object\n",
      " 26  %ZW04                   1586455 non-null  object\n",
      " 27  DATA&INSIGHT            1586455 non-null  object\n",
      " 28  %ZW06                   1586455 non-null  object\n",
      " 29  Slob                    1586455 non-null  object\n",
      " 30  %ZW07                   1586455 non-null  object\n",
      " 31  Promo Temp.             1586455 non-null  object\n",
      " 32  %ZW08                   1586455 non-null  object\n",
      " 33  Canal Margem            1586455 non-null  object\n",
      " 34  %ZW15                   1586455 non-null  object\n",
      " 35  EDLP                    1586455 non-null  object\n",
      " 36  %ZW16                   1586455 non-null  object\n",
      " 37  NÃ£o DevoluÃ§           1586455 non-null  object\n",
      " 38  %ZW34                   1586455 non-null  object\n",
      " 39  Canal LogÃ­st.          1586455 non-null  object\n",
      " 40  %ZW35                   1586455 non-null  object\n",
      " 41  Aj.Gross2               1586455 non-null  object\n",
      " 42  %ZW37                   1586455 non-null  object\n",
      " 43  Aj. AD                  1586455 non-null  object\n",
      " 44  %ZW38                   1586455 non-null  object\n",
      " 45  Performan               1586455 non-null  object\n",
      " 46  %ZW40                   1586455 non-null  object\n",
      " 47  Margem 2                1586455 non-null  object\n",
      " 48  %ZW41                   1586455 non-null  object\n",
      " 49  Desconto S              1586455 non-null  object\n",
      " 50  %ZW42                   1586455 non-null  object\n",
      " 51  Desconto C              1586455 non-null  object\n",
      " 52  %ZW43                   1586455 non-null  object\n",
      " 53  Trade Price             1586455 non-null  object\n",
      " 54  % Aliq. ICMS            1586455 non-null  object\n",
      " 55  Valor ICMS              1586455 non-null  object\n",
      " 56  PreÃ§o Caixa            1586455 non-null  object\n",
      " 57  % Aliq. IPI             1586455 non-null  object\n",
      " 58  Valor IPI               1586455 non-null  object\n",
      " 59  Valor do PM             1586455 non-null  object\n",
      " 60  Sub.TributÃ¡r           1586455 non-null  object\n",
      " 61  PreÃ§o Unit.            1586455 non-null  object\n",
      " 62  Pr.unit.list            1586455 non-null  object\n",
      " 63  PreÃ§o Total            1586455 non-null  object\n",
      " 64  Clas. Fiscal            1586455 non-null  object\n",
      " 65  DUN                     1586455 non-null  int64 \n",
      " 66  %Basered1               1586455 non-null  object\n",
      " 67  %Basered2ST             1586455 non-null  object\n",
      " 68  %Red.ICM                1586455 non-null  object\n",
      " 69  %RBase ICMS             1586455 non-null  object\n",
      " 70  %PIS                    1586455 non-null  object\n",
      " 71  %COFINS                 1586455 non-null  object\n",
      " 72  %EncFinac               1586455 non-null  object\n",
      " 73  Descricao c             1585856 non-null  object\n",
      " 74  CEST                    1581025 non-null  object\n",
      "dtypes: int64(6), object(69)\n",
      "memory usage: 907.8+ MB\n"
     ]
    }
   ],
   "source": [
    "df_checagem_consolidacao.info()"
   ]
  },
  {
   "cell_type": "code",
   "execution_count": 31,
   "metadata": {},
   "outputs": [
    {
     "data": {
      "text/html": [
       "<div>\n",
       "<style scoped>\n",
       "    .dataframe tbody tr th:only-of-type {\n",
       "        vertical-align: middle;\n",
       "    }\n",
       "\n",
       "    .dataframe tbody tr th {\n",
       "        vertical-align: top;\n",
       "    }\n",
       "\n",
       "    .dataframe thead th {\n",
       "        text-align: right;\n",
       "    }\n",
       "</style>\n",
       "<table border=\"1\" class=\"dataframe\">\n",
       "  <thead>\n",
       "    <tr style=\"text-align: right;\">\n",
       "      <th></th>\n",
       "      <th>count</th>\n",
       "      <th>mean</th>\n",
       "      <th>std</th>\n",
       "      <th>min</th>\n",
       "      <th>25%</th>\n",
       "      <th>50%</th>\n",
       "      <th>75%</th>\n",
       "      <th>max</th>\n",
       "    </tr>\n",
       "  </thead>\n",
       "  <tbody>\n",
       "    <tr>\n",
       "      <th>Unnamed: 0</th>\n",
       "      <td>1586455.0</td>\n",
       "      <td>7.932270e+05</td>\n",
       "      <td>4.579703e+05</td>\n",
       "      <td>0.000000e+00</td>\n",
       "      <td>3.966135e+05</td>\n",
       "      <td>7.932270e+05</td>\n",
       "      <td>1.189840e+06</td>\n",
       "      <td>1.586454e+06</td>\n",
       "    </tr>\n",
       "    <tr>\n",
       "      <th>Emissor Id</th>\n",
       "      <td>1586455.0</td>\n",
       "      <td>1.765065e+05</td>\n",
       "      <td>3.475404e+04</td>\n",
       "      <td>1.035110e+05</td>\n",
       "      <td>1.600000e+05</td>\n",
       "      <td>1.846110e+05</td>\n",
       "      <td>2.072660e+05</td>\n",
       "      <td>2.207160e+05</td>\n",
       "    </tr>\n",
       "    <tr>\n",
       "      <th>Produto</th>\n",
       "      <td>1586455.0</td>\n",
       "      <td>5.031242e+05</td>\n",
       "      <td>1.236352e+05</td>\n",
       "      <td>2.886000e+03</td>\n",
       "      <td>5.306920e+05</td>\n",
       "      <td>5.427210e+05</td>\n",
       "      <td>5.552480e+05</td>\n",
       "      <td>5.710970e+05</td>\n",
       "    </tr>\n",
       "    <tr>\n",
       "      <th>EAN</th>\n",
       "      <td>1586455.0</td>\n",
       "      <td>7.564100e+12</td>\n",
       "      <td>1.476525e+12</td>\n",
       "      <td>7.050105e+10</td>\n",
       "      <td>7.891010e+12</td>\n",
       "      <td>7.891010e+12</td>\n",
       "      <td>7.891011e+12</td>\n",
       "      <td>7.896212e+12</td>\n",
       "    </tr>\n",
       "    <tr>\n",
       "      <th>Unidades</th>\n",
       "      <td>1586455.0</td>\n",
       "      <td>1.862309e+01</td>\n",
       "      <td>2.381905e+01</td>\n",
       "      <td>3.000000e+00</td>\n",
       "      <td>6.000000e+00</td>\n",
       "      <td>1.200000e+01</td>\n",
       "      <td>1.800000e+01</td>\n",
       "      <td>2.880000e+02</td>\n",
       "    </tr>\n",
       "    <tr>\n",
       "      <th>DUN</th>\n",
       "      <td>1586455.0</td>\n",
       "      <td>1.803273e+13</td>\n",
       "      <td>4.143830e+12</td>\n",
       "      <td>7.891011e+12</td>\n",
       "      <td>1.789101e+13</td>\n",
       "      <td>1.789101e+13</td>\n",
       "      <td>1.789101e+13</td>\n",
       "      <td>8.789101e+13</td>\n",
       "    </tr>\n",
       "  </tbody>\n",
       "</table>\n",
       "</div>"
      ],
      "text/plain": [
       "                count          mean           std           min           25%  \\\n",
       "Unnamed: 0  1586455.0  7.932270e+05  4.579703e+05  0.000000e+00  3.966135e+05   \n",
       "Emissor Id  1586455.0  1.765065e+05  3.475404e+04  1.035110e+05  1.600000e+05   \n",
       "Produto     1586455.0  5.031242e+05  1.236352e+05  2.886000e+03  5.306920e+05   \n",
       "EAN         1586455.0  7.564100e+12  1.476525e+12  7.050105e+10  7.891010e+12   \n",
       "Unidades    1586455.0  1.862309e+01  2.381905e+01  3.000000e+00  6.000000e+00   \n",
       "DUN         1586455.0  1.803273e+13  4.143830e+12  7.891011e+12  1.789101e+13   \n",
       "\n",
       "                     50%           75%           max  \n",
       "Unnamed: 0  7.932270e+05  1.189840e+06  1.586454e+06  \n",
       "Emissor Id  1.846110e+05  2.072660e+05  2.207160e+05  \n",
       "Produto     5.427210e+05  5.552480e+05  5.710970e+05  \n",
       "EAN         7.891010e+12  7.891011e+12  7.896212e+12  \n",
       "Unidades    1.200000e+01  1.800000e+01  2.880000e+02  \n",
       "DUN         1.789101e+13  1.789101e+13  8.789101e+13  "
      ]
     },
     "execution_count": 31,
     "metadata": {},
     "output_type": "execute_result"
    }
   ],
   "source": [
    "df_checagem_consolidacao.describe().transpose()"
   ]
  },
  {
   "cell_type": "markdown",
   "metadata": {},
   "source": [
    "### Ajustando Formatação de campos que serão checados (Emissor Id e Produto)"
   ]
  },
  {
   "cell_type": "code",
   "execution_count": 330,
   "metadata": {},
   "outputs": [
    {
     "name": "stdout",
     "output_type": "stream",
     "text": [
      "<class 'pandas.core.frame.DataFrame'>\n",
      "RangeIndex: 1586455 entries, 0 to 1586454\n",
      "Data columns (total 75 columns):\n",
      " #   Column                  Non-Null Count    Dtype \n",
      "---  ------                  --------------    ----- \n",
      " 0   Unnamed: 0              1586455 non-null  int64 \n",
      " 1   Descricao NÃ³           1584059 non-null  object\n",
      " 2   Dt Vigencia             1586455 non-null  object\n",
      " 3   Dt Emitida              1586455 non-null  object\n",
      " 4   Emissor Id              1586455 non-null  object\n",
      " 5   Emissor Name            1586455 non-null  object\n",
      " 6   CD                      1586455 non-null  object\n",
      " 7   Destino                 1586455 non-null  object\n",
      " 8   Cond Pagto Id           1586455 non-null  object\n",
      " 9   Cond Pagto Name         1585856 non-null  object\n",
      " 10  Grupo ST                1586455 non-null  object\n",
      " 11  Cliente Ativo           1586455 non-null  object\n",
      " 12  Bloqueio Credito        1586455 non-null  object\n",
      " 13  Produto                 1586455 non-null  object\n",
      " 14  EAN                     1586455 non-null  int64 \n",
      " 15  DescriÃ§Ã£o do Produto  1586455 non-null  object\n",
      " 16  Franquia                1586455 non-null  object\n",
      " 17  FamÃ­lia                1586455 non-null  object\n",
      " 18  Unidades                1586455 non-null  int64 \n",
      " 19  PR00                    1586455 non-null  object\n",
      " 20  ICMS+PIS+Cof            1586455 non-null  object\n",
      " 21  Encargo Fina            1586455 non-null  object\n",
      " 22  Sub Encargo             1586455 non-null  object\n",
      " 23  AjusteGross1            1586455 non-null  object\n",
      " 24  %ZW01/44                1586455 non-null  object\n",
      " 25  LogÃ­stica              1586455 non-null  object\n",
      " 26  %ZW04                   1586455 non-null  object\n",
      " 27  DATA&INSIGHT            1586455 non-null  object\n",
      " 28  %ZW06                   1586455 non-null  object\n",
      " 29  Slob                    1586455 non-null  object\n",
      " 30  %ZW07                   1586455 non-null  object\n",
      " 31  Promo Temp.             1586455 non-null  object\n",
      " 32  %ZW08                   1586455 non-null  object\n",
      " 33  Canal Margem            1586455 non-null  object\n",
      " 34  %ZW15                   1586455 non-null  object\n",
      " 35  EDLP                    1586455 non-null  object\n",
      " 36  %ZW16                   1586455 non-null  object\n",
      " 37  NÃ£o DevoluÃ§           1586455 non-null  object\n",
      " 38  %ZW34                   1586455 non-null  object\n",
      " 39  Canal LogÃ­st.          1586455 non-null  object\n",
      " 40  %ZW35                   1586455 non-null  object\n",
      " 41  Aj.Gross2               1586455 non-null  object\n",
      " 42  %ZW37                   1586455 non-null  object\n",
      " 43  Aj. AD                  1586455 non-null  object\n",
      " 44  %ZW38                   1586455 non-null  object\n",
      " 45  Performan               1586455 non-null  object\n",
      " 46  %ZW40                   1586455 non-null  object\n",
      " 47  Margem 2                1586455 non-null  object\n",
      " 48  %ZW41                   1586455 non-null  object\n",
      " 49  Desconto S              1586455 non-null  object\n",
      " 50  %ZW42                   1586455 non-null  object\n",
      " 51  Desconto C              1586455 non-null  object\n",
      " 52  %ZW43                   1586455 non-null  object\n",
      " 53  Trade Price             1586455 non-null  object\n",
      " 54  % Aliq. ICMS            1586455 non-null  object\n",
      " 55  Valor ICMS              1586455 non-null  object\n",
      " 56  PreÃ§o Caixa            1586455 non-null  object\n",
      " 57  % Aliq. IPI             1586455 non-null  object\n",
      " 58  Valor IPI               1586455 non-null  object\n",
      " 59  Valor do PM             1586455 non-null  object\n",
      " 60  Sub.TributÃ¡r           1586455 non-null  object\n",
      " 61  PreÃ§o Unit.            1586455 non-null  object\n",
      " 62  Pr.unit.list            1586455 non-null  object\n",
      " 63  PreÃ§o Total            1586455 non-null  object\n",
      " 64  Clas. Fiscal            1586455 non-null  object\n",
      " 65  DUN                     1586455 non-null  int64 \n",
      " 66  %Basered1               1586455 non-null  object\n",
      " 67  %Basered2ST             1586455 non-null  object\n",
      " 68  %Red.ICM                1586455 non-null  object\n",
      " 69  %RBase ICMS             1586455 non-null  object\n",
      " 70  %PIS                    1586455 non-null  object\n",
      " 71  %COFINS                 1586455 non-null  object\n",
      " 72  %EncFinac               1586455 non-null  object\n",
      " 73  Descricao c             1585856 non-null  object\n",
      " 74  CEST                    1581025 non-null  object\n",
      "dtypes: int64(4), object(71)\n",
      "memory usage: 907.8+ MB\n"
     ]
    }
   ],
   "source": [
    "\n",
    "df_checagem_consolidacao['Emissor Id'] = df_checagem_consolidacao['Emissor Id'].astype(str)\n",
    "df_checagem_consolidacao['Produto'] = df_checagem_consolidacao['Produto'].astype(str)\n",
    "df_checagem_consolidacao.info()\n",
    "df_checagem_consolidacao.head()"
   ]
  },
  {
   "cell_type": "markdown",
   "metadata": {},
   "source": [
    "#### Teste unitário\n",
    "Emissor ID : 181130\n",
    "Material (Produto) : 558984\n"
   ]
  },
  {
   "cell_type": "code",
   "execution_count": 404,
   "metadata": {},
   "outputs": [],
   "source": [
    "## Caso escalar, colocar um método para inputar dados de cliente emissor e produto\n",
    "## Inserir uma lista de emissores e produtos\n",
    "EmissorCheck = ['181130','1123124']\n",
    "ProdutoCheck = ['556272','558984','20202','559898']"
   ]
  },
  {
   "cell_type": "code",
   "execution_count": 405,
   "metadata": {},
   "outputs": [
    {
     "data": {
      "text/html": [
       "<div>\n",
       "<style scoped>\n",
       "    .dataframe tbody tr th:only-of-type {\n",
       "        vertical-align: middle;\n",
       "    }\n",
       "\n",
       "    .dataframe tbody tr th {\n",
       "        vertical-align: top;\n",
       "    }\n",
       "\n",
       "    .dataframe thead th {\n",
       "        text-align: right;\n",
       "    }\n",
       "</style>\n",
       "<table border=\"1\" class=\"dataframe\">\n",
       "  <thead>\n",
       "    <tr style=\"text-align: right;\">\n",
       "      <th></th>\n",
       "      <th>Emissor Id</th>\n",
       "      <th>Produto</th>\n",
       "      <th>Emissor Encontrado</th>\n",
       "      <th>Produto Encontrado</th>\n",
       "    </tr>\n",
       "  </thead>\n",
       "  <tbody>\n",
       "    <tr>\n",
       "      <th>0</th>\n",
       "      <td>181130</td>\n",
       "      <td>556272</td>\n",
       "      <td>False</td>\n",
       "      <td>False</td>\n",
       "    </tr>\n",
       "    <tr>\n",
       "      <th>1</th>\n",
       "      <td>181130</td>\n",
       "      <td>558984</td>\n",
       "      <td>False</td>\n",
       "      <td>False</td>\n",
       "    </tr>\n",
       "    <tr>\n",
       "      <th>2</th>\n",
       "      <td>181130</td>\n",
       "      <td>20202</td>\n",
       "      <td>False</td>\n",
       "      <td>False</td>\n",
       "    </tr>\n",
       "    <tr>\n",
       "      <th>3</th>\n",
       "      <td>181130</td>\n",
       "      <td>559898</td>\n",
       "      <td>False</td>\n",
       "      <td>False</td>\n",
       "    </tr>\n",
       "    <tr>\n",
       "      <th>4</th>\n",
       "      <td>1123124</td>\n",
       "      <td>556272</td>\n",
       "      <td>False</td>\n",
       "      <td>False</td>\n",
       "    </tr>\n",
       "  </tbody>\n",
       "</table>\n",
       "</div>"
      ],
      "text/plain": [
       "  Emissor Id Produto  Emissor Encontrado  Produto Encontrado\n",
       "0     181130  556272               False               False\n",
       "1     181130  558984               False               False\n",
       "2     181130   20202               False               False\n",
       "3     181130  559898               False               False\n",
       "4    1123124  556272               False               False"
      ]
     },
     "execution_count": 405,
     "metadata": {},
     "output_type": "execute_result"
    }
   ],
   "source": [
    "\n",
    "\n",
    "# create a cartesian product of the two lists EmissorCheck and ProdutoCheck\n",
    "resultado_df = pd.DataFrame(list(itertools.product(EmissorCheck, ProdutoCheck)), columns=['Emissor Id', 'Produto'])\n",
    "resultado_df['Emissor Encontrado'] = False\n",
    "resultado_df['Produto Encontrado'] = False\n",
    "resultado_df['Produto'] = resultado_df['Produto'].astype(str)\n",
    "resultado_df.head()"
   ]
  },
  {
   "cell_type": "code",
   "execution_count": 406,
   "metadata": {},
   "outputs": [],
   "source": [
    "def check_emissor_produto(df_checagem_consolidacao, resultado_df):\n",
    "    for index, row in resultado_df.iterrows():\n",
    "        if row['Emissor Id'] in df_checagem_consolidacao['Emissor Id'].values:\n",
    "            resultado_df.loc[index, 'Emissor Encontrado'] = True\n",
    "        if row['Produto'] in df_checagem_consolidacao['Produto'].values and row['Emissor Id'] in df_checagem_consolidacao['Emissor Id'].values:\n",
    "            resultado_df.loc[index, 'Produto Encontrado'] = True\n",
    "    return resultado_df"
   ]
  },
  {
   "cell_type": "code",
   "execution_count": 407,
   "metadata": {},
   "outputs": [
    {
     "data": {
      "text/html": [
       "<div>\n",
       "<style scoped>\n",
       "    .dataframe tbody tr th:only-of-type {\n",
       "        vertical-align: middle;\n",
       "    }\n",
       "\n",
       "    .dataframe tbody tr th {\n",
       "        vertical-align: top;\n",
       "    }\n",
       "\n",
       "    .dataframe thead th {\n",
       "        text-align: right;\n",
       "    }\n",
       "</style>\n",
       "<table border=\"1\" class=\"dataframe\">\n",
       "  <thead>\n",
       "    <tr style=\"text-align: right;\">\n",
       "      <th></th>\n",
       "      <th>Emissor Id</th>\n",
       "      <th>Produto</th>\n",
       "      <th>Emissor Encontrado</th>\n",
       "      <th>Produto Encontrado</th>\n",
       "    </tr>\n",
       "  </thead>\n",
       "  <tbody>\n",
       "    <tr>\n",
       "      <th>0</th>\n",
       "      <td>181130</td>\n",
       "      <td>556272</td>\n",
       "      <td>True</td>\n",
       "      <td>True</td>\n",
       "    </tr>\n",
       "    <tr>\n",
       "      <th>1</th>\n",
       "      <td>181130</td>\n",
       "      <td>558984</td>\n",
       "      <td>True</td>\n",
       "      <td>True</td>\n",
       "    </tr>\n",
       "    <tr>\n",
       "      <th>2</th>\n",
       "      <td>181130</td>\n",
       "      <td>20202</td>\n",
       "      <td>True</td>\n",
       "      <td>False</td>\n",
       "    </tr>\n",
       "    <tr>\n",
       "      <th>3</th>\n",
       "      <td>181130</td>\n",
       "      <td>559898</td>\n",
       "      <td>True</td>\n",
       "      <td>False</td>\n",
       "    </tr>\n",
       "    <tr>\n",
       "      <th>4</th>\n",
       "      <td>1123124</td>\n",
       "      <td>556272</td>\n",
       "      <td>False</td>\n",
       "      <td>False</td>\n",
       "    </tr>\n",
       "    <tr>\n",
       "      <th>5</th>\n",
       "      <td>1123124</td>\n",
       "      <td>558984</td>\n",
       "      <td>False</td>\n",
       "      <td>False</td>\n",
       "    </tr>\n",
       "    <tr>\n",
       "      <th>6</th>\n",
       "      <td>1123124</td>\n",
       "      <td>20202</td>\n",
       "      <td>False</td>\n",
       "      <td>False</td>\n",
       "    </tr>\n",
       "    <tr>\n",
       "      <th>7</th>\n",
       "      <td>1123124</td>\n",
       "      <td>559898</td>\n",
       "      <td>False</td>\n",
       "      <td>False</td>\n",
       "    </tr>\n",
       "  </tbody>\n",
       "</table>\n",
       "</div>"
      ],
      "text/plain": [
       "  Emissor Id Produto  Emissor Encontrado  Produto Encontrado\n",
       "0     181130  556272                True                True\n",
       "1     181130  558984                True                True\n",
       "2     181130   20202                True               False\n",
       "3     181130  559898                True               False\n",
       "4    1123124  556272               False               False\n",
       "5    1123124  558984               False               False\n",
       "6    1123124   20202               False               False\n",
       "7    1123124  559898               False               False"
      ]
     },
     "execution_count": 407,
     "metadata": {},
     "output_type": "execute_result"
    }
   ],
   "source": [
    "check_emissor_produto(df_checagem_consolidacao_filtrado, resultado_df)"
   ]
  },
  {
   "cell_type": "code",
   "execution_count": null,
   "metadata": {},
   "outputs": [],
   "source": []
  },
  {
   "cell_type": "code",
   "execution_count": null,
   "metadata": {},
   "outputs": [],
   "source": [
    "\n"
   ]
  },
  {
   "cell_type": "code",
   "execution_count": 367,
   "metadata": {},
   "outputs": [
    {
     "ename": "ValueError",
     "evalue": "The truth value of a DataFrame is ambiguous. Use a.empty, a.bool(), a.item(), a.any() or a.all().",
     "output_type": "error",
     "traceback": [
      "\u001b[1;31m---------------------------------------------------------------------------\u001b[0m",
      "\u001b[1;31mValueError\u001b[0m                                Traceback (most recent call last)",
      "\u001b[1;32mc:\\Users\\orochage\\pricelist\\reconstruct_pricelist.ipynb Cell 20'\u001b[0m in \u001b[0;36m<module>\u001b[1;34m\u001b[0m\n\u001b[0;32m      <a href='vscode-notebook-cell:/c%3A/Users/orochage/pricelist/reconstruct_pricelist.ipynb#ch0000016?line=0'>1</a>\u001b[0m \u001b[39m#check presence of EmissorId and Material\u001b[39;00m\n\u001b[0;32m      <a href='vscode-notebook-cell:/c%3A/Users/orochage/pricelist/reconstruct_pricelist.ipynb#ch0000016?line=1'>2</a>\u001b[0m \u001b[39m#drop all columns except Emissor Id and Produto\u001b[39;00m\n\u001b[0;32m      <a href='vscode-notebook-cell:/c%3A/Users/orochage/pricelist/reconstruct_pricelist.ipynb#ch0000016?line=2'>3</a>\u001b[0m \u001b[39mfor\u001b[39;00m i \u001b[39min\u001b[39;00m EmissorCheck:\n\u001b[1;32m----> <a href='vscode-notebook-cell:/c%3A/Users/orochage/pricelist/reconstruct_pricelist.ipynb#ch0000016?line=3'>4</a>\u001b[0m     \u001b[39mif\u001b[39;00m df_checagem_consolidacao\u001b[39m.\u001b[39mloc[df_checagem_consolidacao[\u001b[39m'\u001b[39m\u001b[39mEmissor Id\u001b[39m\u001b[39m'\u001b[39m] \u001b[39m==\u001b[39m i ]:\n\u001b[0;32m      <a href='vscode-notebook-cell:/c%3A/Users/orochage/pricelist/reconstruct_pricelist.ipynb#ch0000016?line=4'>5</a>\u001b[0m         unit_test_df \u001b[39m=\u001b[39m unit_test_df\u001b[39m.\u001b[39mappend(df_checagem_consolidacao\u001b[39m.\u001b[39mloc[df_checagem_consolidacao[\u001b[39m'\u001b[39m\u001b[39mEmissor Id\u001b[39m\u001b[39m'\u001b[39m] \u001b[39m==\u001b[39m i])\n",
      "File \u001b[1;32mc:\\Users\\orochage\\AppData\\Local\\Programs\\Python\\Python38\\lib\\site-packages\\pandas\\core\\generic.py:1527\u001b[0m, in \u001b[0;36mNDFrame.__nonzero__\u001b[1;34m(self)\u001b[0m\n\u001b[0;32m   <a href='file:///c%3A/Users/orochage/AppData/Local/Programs/Python/Python38/lib/site-packages/pandas/core/generic.py?line=1524'>1525</a>\u001b[0m \u001b[39m@final\u001b[39m\n\u001b[0;32m   <a href='file:///c%3A/Users/orochage/AppData/Local/Programs/Python/Python38/lib/site-packages/pandas/core/generic.py?line=1525'>1526</a>\u001b[0m \u001b[39mdef\u001b[39;00m \u001b[39m__nonzero__\u001b[39m(\u001b[39mself\u001b[39m):\n\u001b[1;32m-> <a href='file:///c%3A/Users/orochage/AppData/Local/Programs/Python/Python38/lib/site-packages/pandas/core/generic.py?line=1526'>1527</a>\u001b[0m     \u001b[39mraise\u001b[39;00m \u001b[39mValueError\u001b[39;00m(\n\u001b[0;32m   <a href='file:///c%3A/Users/orochage/AppData/Local/Programs/Python/Python38/lib/site-packages/pandas/core/generic.py?line=1527'>1528</a>\u001b[0m         \u001b[39mf\u001b[39m\u001b[39m\"\u001b[39m\u001b[39mThe truth value of a \u001b[39m\u001b[39m{\u001b[39;00m\u001b[39mtype\u001b[39m(\u001b[39mself\u001b[39m)\u001b[39m.\u001b[39m\u001b[39m__name__\u001b[39m\u001b[39m}\u001b[39;00m\u001b[39m is ambiguous. \u001b[39m\u001b[39m\"\u001b[39m\n\u001b[0;32m   <a href='file:///c%3A/Users/orochage/AppData/Local/Programs/Python/Python38/lib/site-packages/pandas/core/generic.py?line=1528'>1529</a>\u001b[0m         \u001b[39m\"\u001b[39m\u001b[39mUse a.empty, a.bool(), a.item(), a.any() or a.all().\u001b[39m\u001b[39m\"\u001b[39m\n\u001b[0;32m   <a href='file:///c%3A/Users/orochage/AppData/Local/Programs/Python/Python38/lib/site-packages/pandas/core/generic.py?line=1529'>1530</a>\u001b[0m     )\n",
      "\u001b[1;31mValueError\u001b[0m: The truth value of a DataFrame is ambiguous. Use a.empty, a.bool(), a.item(), a.any() or a.all()."
     ]
    }
   ],
   "source": [
    "#check presence of EmissorId and Material\n",
    "#drop all columns except Emissor Id and Produto\n",
    "for i in EmissorCheck:\n",
    "    if df_checagem_consolidacao.loc[df_checagem_consolidacao['Emissor Id'] == i ]:\n",
    "        unit_test_df = unit_test_df.append(df_checagem_consolidacao.loc[df_checagem_consolidacao['Emissor Id']])\n"
   ]
  },
  {
   "cell_type": "code",
   "execution_count": 394,
   "metadata": {},
   "outputs": [
    {
     "data": {
      "text/html": [
       "<div>\n",
       "<style scoped>\n",
       "    .dataframe tbody tr th:only-of-type {\n",
       "        vertical-align: middle;\n",
       "    }\n",
       "\n",
       "    .dataframe tbody tr th {\n",
       "        vertical-align: top;\n",
       "    }\n",
       "\n",
       "    .dataframe thead th {\n",
       "        text-align: right;\n",
       "    }\n",
       "</style>\n",
       "<table border=\"1\" class=\"dataframe\">\n",
       "  <thead>\n",
       "    <tr style=\"text-align: right;\">\n",
       "      <th></th>\n",
       "      <th>Unnamed: 0</th>\n",
       "      <th>Descricao NÃ³</th>\n",
       "      <th>Dt Vigencia</th>\n",
       "      <th>Dt Emitida</th>\n",
       "      <th>Emissor Id</th>\n",
       "      <th>Emissor Name</th>\n",
       "      <th>CD</th>\n",
       "      <th>Destino</th>\n",
       "      <th>Cond Pagto Id</th>\n",
       "      <th>Cond Pagto Name</th>\n",
       "      <th>...</th>\n",
       "      <th>DUN</th>\n",
       "      <th>%Basered1</th>\n",
       "      <th>%Basered2ST</th>\n",
       "      <th>%Red.ICM</th>\n",
       "      <th>%RBase ICMS</th>\n",
       "      <th>%PIS</th>\n",
       "      <th>%COFINS</th>\n",
       "      <th>%EncFinac</th>\n",
       "      <th>Descricao c</th>\n",
       "      <th>CEST</th>\n",
       "    </tr>\n",
       "  </thead>\n",
       "  <tbody>\n",
       "    <tr>\n",
       "      <th>227629</th>\n",
       "      <td>227629</td>\n",
       "      <td>GRUPO DPSP</td>\n",
       "      <td>04.06.2022</td>\n",
       "      <td>04.06.2022</td>\n",
       "      <td>181130</td>\n",
       "      <td>DROGARIAS PACHECO S/A</td>\n",
       "      <td>BR16</td>\n",
       "      <td>MG</td>\n",
       "      <td>Z526</td>\n",
       "      <td>45 Dias Liquido da Data Fatura</td>\n",
       "      <td>...</td>\n",
       "      <td>17891010254152</td>\n",
       "      <td>0,00</td>\n",
       "      <td>0,00</td>\n",
       "      <td>0,00</td>\n",
       "      <td>0,00</td>\n",
       "      <td>1,65</td>\n",
       "      <td>7,60</td>\n",
       "      <td>0,000</td>\n",
       "      <td>45 Dias Liquido da Data Fatura</td>\n",
       "      <td>20.050.00</td>\n",
       "    </tr>\n",
       "    <tr>\n",
       "      <th>530949</th>\n",
       "      <td>530949</td>\n",
       "      <td>GRUPO DPSP</td>\n",
       "      <td>23.06.2022</td>\n",
       "      <td>24.06.2022</td>\n",
       "      <td>181130</td>\n",
       "      <td>DROGARIAS PACHECO S/A</td>\n",
       "      <td>BR16</td>\n",
       "      <td>MG</td>\n",
       "      <td>Z526</td>\n",
       "      <td>45 Dias Liquido da Data Fatura</td>\n",
       "      <td>...</td>\n",
       "      <td>17891010254152</td>\n",
       "      <td>0,00</td>\n",
       "      <td>0,00</td>\n",
       "      <td>0,00</td>\n",
       "      <td>0,00</td>\n",
       "      <td>1,65</td>\n",
       "      <td>7,60</td>\n",
       "      <td>0,000</td>\n",
       "      <td>45 Dias Liquido da Data Fatura</td>\n",
       "      <td>20.050.00</td>\n",
       "    </tr>\n",
       "  </tbody>\n",
       "</table>\n",
       "<p>2 rows × 75 columns</p>\n",
       "</div>"
      ],
      "text/plain": [
       "        Unnamed: 0 Descricao NÃ³ Dt Vigencia  Dt Emitida Emissor Id  \\\n",
       "227629      227629    GRUPO DPSP  04.06.2022  04.06.2022     181130   \n",
       "530949      530949    GRUPO DPSP  23.06.2022  24.06.2022     181130   \n",
       "\n",
       "                 Emissor Name    CD Destino Cond Pagto Id  \\\n",
       "227629  DROGARIAS PACHECO S/A  BR16      MG          Z526   \n",
       "530949  DROGARIAS PACHECO S/A  BR16      MG          Z526   \n",
       "\n",
       "                       Cond Pagto Name  ...             DUN %Basered1  \\\n",
       "227629  45 Dias Liquido da Data Fatura  ...  17891010254152      0,00   \n",
       "530949  45 Dias Liquido da Data Fatura  ...  17891010254152      0,00   \n",
       "\n",
       "       %Basered2ST %Red.ICM  %RBase ICMS  %PIS %COFINS %EncFinac  \\\n",
       "227629        0,00     0,00         0,00  1,65    7,60     0,000   \n",
       "530949        0,00     0,00         0,00  1,65    7,60     0,000   \n",
       "\n",
       "                           Descricao c       CEST  \n",
       "227629  45 Dias Liquido da Data Fatura  20.050.00  \n",
       "530949  45 Dias Liquido da Data Fatura  20.050.00  \n",
       "\n",
       "[2 rows x 75 columns]"
      ]
     },
     "execution_count": 394,
     "metadata": {},
     "output_type": "execute_result"
    }
   ],
   "source": [
    "unit_test_df = df_checagem_consolidacao[df_checagem_consolidacao['Emissor Id'] == '181130']\n",
    "unit_test_df = unit_test_df[unit_test_df['Produto'] == '556272']\n",
    "unit_test_df.head()"
   ]
  },
  {
   "cell_type": "code",
   "execution_count": 400,
   "metadata": {},
   "outputs": [
    {
     "data": {
      "text/html": [
       "<div>\n",
       "<style scoped>\n",
       "    .dataframe tbody tr th:only-of-type {\n",
       "        vertical-align: middle;\n",
       "    }\n",
       "\n",
       "    .dataframe tbody tr th {\n",
       "        vertical-align: top;\n",
       "    }\n",
       "\n",
       "    .dataframe thead th {\n",
       "        text-align: right;\n",
       "    }\n",
       "</style>\n",
       "<table border=\"1\" class=\"dataframe\">\n",
       "  <thead>\n",
       "    <tr style=\"text-align: right;\">\n",
       "      <th></th>\n",
       "      <th>Emissor Id</th>\n",
       "      <th>Produto</th>\n",
       "      <th>PR00</th>\n",
       "    </tr>\n",
       "  </thead>\n",
       "  <tbody>\n",
       "    <tr>\n",
       "      <th>227682</th>\n",
       "      <td>181130</td>\n",
       "      <td>558984</td>\n",
       "      <td>158,91</td>\n",
       "    </tr>\n",
       "    <tr>\n",
       "      <th>531003</th>\n",
       "      <td>181130</td>\n",
       "      <td>558984</td>\n",
       "      <td>158,91</td>\n",
       "    </tr>\n",
       "  </tbody>\n",
       "</table>\n",
       "</div>"
      ],
      "text/plain": [
       "       Emissor Id Produto    PR00\n",
       "227682     181130  558984  158,91\n",
       "531003     181130  558984  158,91"
      ]
     },
     "execution_count": 400,
     "metadata": {},
     "output_type": "execute_result"
    }
   ],
   "source": [
    "unit_test_df = df_checagem_consolidacao[df_checagem_consolidacao['Emissor Id'] == '181130']\n",
    "unit_test_df = unit_test_df[unit_test_df['Produto'] == '558984']\n",
    "final = unit_test_df[['Emissor Id','Produto','PR00']]\n",
    "final.head()"
   ]
  },
  {
   "cell_type": "code",
   "execution_count": null,
   "metadata": {},
   "outputs": [],
   "source": [
    "\n"
   ]
  },
  {
   "cell_type": "markdown",
   "metadata": {},
   "source": [
    "check presence of EmissorId and Material\n"
   ]
  }
 ],
 "metadata": {
  "interpreter": {
   "hash": "33b0e9316c6efd50044b3cff64466485d6edb27939f04b9517e4b9101aede369"
  },
  "kernelspec": {
   "display_name": "Python 3.8.6 64-bit",
   "language": "python",
   "name": "python3"
  },
  "language_info": {
   "codemirror_mode": {
    "name": "ipython",
    "version": 3
   },
   "file_extension": ".py",
   "mimetype": "text/x-python",
   "name": "python",
   "nbconvert_exporter": "python",
   "pygments_lexer": "ipython3",
   "version": "3.8.6"
  },
  "orig_nbformat": 4
 },
 "nbformat": 4,
 "nbformat_minor": 2
}
